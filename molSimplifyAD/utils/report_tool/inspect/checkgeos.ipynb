{
 "cells": [
  {
   "cell_type": "code",
   "execution_count": 326,
   "metadata": {},
   "outputs": [],
   "source": [
    "import os, sys, shutil, glob, subprocess\n",
    "from molSimplify.Classes.mol3D import *\n",
    "from molSimplify.Classes.ligand import *\n",
    "from molSimplify.Scripts.geometry import *\n",
    "from pymol.cgo import *\n",
    "from pymol import cmd\n",
    "from pymol import preset\n",
    "from pymol import util"
   ]
  },
  {
   "cell_type": "code",
   "execution_count": 308,
   "metadata": {},
   "outputs": [],
   "source": [
    "# paths\n",
    "initialPath = \"initial/initial2.xyz\"\n",
    "finalPath = \"final/final2.xyz\"\n",
    "texSource = \"../autotikz/\"\n",
    "reportPath = \"reportName/\"\n",
    "\n",
    "# load in geos\n",
    "finalMol = mol3D()\n",
    "initialMol = mol3D()\n",
    "initialMol.readfromxyz(initialPath)\n",
    "finalMol.readfromxyz(finalPath)\n",
    "\n",
    "\n",
    "if not os.path.isdir(reportPath):\n",
    "    os.makedirs(reportPath)\n",
    "filesToCopy = ['main','tikz_styles','header']\n",
    "for files in filesToCopy:\n",
    "    shutil.copy(texSource + files+'.tex',reportPath + files+'.tex')\n"
   ]
  },
  {
   "cell_type": "code",
   "execution_count": 301,
   "metadata": {},
   "outputs": [],
   "source": [
    "# def prepareAtomLine(symbol,coords):\n",
    "#     # target = \\drawFeAtom{5}{5}{-12}\n",
    "#     drawType = str(symbol)+'Atom'\n",
    "#     return \"    \\draw\"+drawType +\"{\" + \"}{\".join([str(i) if abs(i) > 1E-3 else str(0) for i in coords]) + \"}\\n\"\n",
    "\n",
    "# def makePicture(linesToAdd,name,texSource,reportPath):\n",
    "#     with open(reportPath + name +'.tex', 'w') as newf:\n",
    "#         with open(texSource + \"pictureTemplate.tex\",'r') as ref:\n",
    "#             reflines = ref.readlines()\n",
    "#         for lines in reflines:\n",
    "#             if lines.find(\"%% new stuff goes here!\") == -1:\n",
    "#                 newf.write(lines)\n",
    "#             else:\n",
    "#                 for newlines in linesToAdd:\n",
    "#                     newf.write(newlines)\n",
    "                    "
   ]
  },
  {
   "cell_type": "code",
   "execution_count": 309,
   "metadata": {},
   "outputs": [
    {
     "name": "stdout",
     "output_type": "stream",
     "text": [
      "[1, 1, 1, 1, 1, 1]\n",
      "[1, 2, 3, 4, 5]\n",
      "[[1], [6], [11], [16], [21], [26]]\n"
     ]
    }
   ],
   "source": [
    "initialLiglist, initialLigdents, initialLigcons = ligand_breakdown(initialMol)\n",
    "print(initialLigdents)\n",
    "initailLigatoms = [len(i) for i in initialLiglist]  # number of atoms \n",
    "print(initialLiglist[0])\n",
    "print(initialLigcons)"
   ]
  },
  {
   "cell_type": "code",
   "execution_count": 320,
   "metadata": {},
   "outputs": [],
   "source": [
    "def rot(initialMol, component):\n",
    "    # component is 0,1,2 for x,y,z\n",
    "    print('------Component: ' + str(component) + '------')\n",
    "    maxComponent = 0\n",
    "    Vect = []\n",
    "    cInd = 0\n",
    "\n",
    "    for conAtoms in initialLigcons:\n",
    "        thisComponent = abs(initialMol.getAtom(conAtoms[0]).coords()[component])\n",
    "        if maxComponent < thisComponent:\n",
    "            Vect = initialMol.getAtom(conAtoms[0]).coords()\n",
    "            cInd = conAtoms[0]\n",
    "    \n",
    "    vectSize = norm(Vect)\n",
    "    if component == 0:\n",
    "        target = [vectSize, 0, 0]\n",
    "    elif component == 1:\n",
    "        target = [0, vectSize, 0]\n",
    "    elif component == 2:\n",
    "        target = [0, 0, vectSize]\n",
    "    \n",
    "    thetaold = vecangle(Vect, target)\n",
    "    \n",
    "    theta, u = rotation_params(Vect,[0,0,0],target)\n",
    "    new_mol = rotate_around_axis(initialMol,[0,0,0],u,-1*theta)\n",
    "    \n",
    "    VectNew = initialMol.getAtom(cInd).coords()\n",
    "    print('\\nafter rot the conatom is located at ' + str(VectNew))       \n",
    "    print(VectNew) \n",
    "    print('\\n')\n",
    "\n",
    "    return new_mol, theta, u\n",
    "    "
   ]
  },
  {
   "cell_type": "code",
   "execution_count": 322,
   "metadata": {},
   "outputs": [],
   "source": [
    "def orient(mol):\n",
    "    new_mol, theta1, u1 = rot(mol, 2)\n",
    "    new_mol, theta2, u2 = rot(new_mol, 1)\n",
    "    new_mol, theta3, u3 = rot(new_mol, 0)\n",
    "    return new_mol, [theta1, theta2, theta3], [u1, u2, u3]"
   ]
  },
  {
   "cell_type": "code",
   "execution_count": 325,
   "metadata": {
    "scrolled": true
   },
   "outputs": [
    {
     "name": "stdout",
     "output_type": "stream",
     "text": [
      "######## INITIAL ########\n",
      "------Component: 2------\n",
      "r10 is [0.0, 0.0, 2.45]\n",
      "r21 is [0, 0, 2.45]\n",
      "arg to arcos  is 1.0\n",
      "\n",
      "after rot the conatom is located at [0.0, 0.0, -2.45]\n",
      "[0.0, 0.0, -2.45]\n",
      "\n",
      "\n",
      "------Component: 1------\n",
      "r10 is [0.0, 2.45, 0.0]\n",
      "r21 is [0, 2.45, 0]\n",
      "arg to arcos  is 1.0\n",
      "\n",
      "after rot the conatom is located at [0.0, -2.45, 0.0]\n",
      "[0.0, -2.45, 0.0]\n",
      "\n",
      "\n",
      "------Component: 0------\n",
      "r10 is [2.45, 0.0, 0.0]\n",
      "r21 is [2.45, 0, 0]\n",
      "arg to arcos  is 1.0\n",
      "\n",
      "after rot the conatom is located at [-2.45, 0.0, 0.0]\n",
      "[-2.45, 0.0, 0.0]\n",
      "\n",
      "\n",
      "######## FINAL ########\n",
      "--reorientation done--\n"
     ]
    }
   ],
   "source": [
    "## initial geo parse\n",
    "# spatialMax = [0,0,0]\n",
    "\n",
    "# center on metal\n",
    "initialMol.translate([-i for i in initialMol.getAtom(initialMol.findMetal()[0]).coords()])\n",
    "finalMol.translate([-i for i in finalMol.getAtom(finalMol.findMetal()[0]).coords()])\n",
    "\n",
    "print('######## INITIAL ########')\n",
    "initialMolOrient, theta, u = orient(initialMol)\n",
    "print('######## FINAL ########')\n",
    "finalMolOrient = rotate_around_axis(finalMol,[0,0,0],u[0],-1*theta[0])\n",
    "finalMolOrient = rotate_around_axis(finalMol,[0,0,0],u[1],-1*theta[1])\n",
    "finalMolOrient = rotate_around_axis(finalMol,[0,0,0],u[2],-1*theta[2])\n",
    "print('--reorientation done--')\n",
    "\n",
    "initialMolOrient.writexyz('initial/initialOrient.xyz')\n",
    "finalMolOrient.writexyz('final/finalOrient.xyz')"
   ]
  },
  {
   "cell_type": "code",
   "execution_count": 304,
   "metadata": {},
   "outputs": [],
   "source": [
    "# intial loop to get scaling\n",
    "# for atom in new_mol.atoms:\n",
    "#     x, y, z = atom.coords()\n",
    "#     if abs(x) >= spatialMax[0]:\n",
    "#         spatialMax[0] = abs(x)\n",
    "#     if abs(y) >= spatialMax[1]:\n",
    "#         spatialMax[1] = abs(y)\n",
    "#     if abs(z) >= spatialMax[2]:\n",
    "#         spatialMax[2] = abs(z)\n",
    "\n",
    "# print(new_mol.coords())\n",
    "# spatialScaling = max([8 / i for i in spatialMax])\n",
    "\n",
    "# initialLines = []\n",
    "\n",
    "# intial loop to get scaling\n",
    "# for atom in new_mol.atoms:\n",
    "#     initialLines.append(prepareAtomLine(atom.symbol(),[float(c)*spatialScaling for i,c in enumerate(atom.coords())]))\n",
    "#     #initialLines.append(prepareAtomLine(atom.symbol(),atom.coords()))\n",
    "    \n",
    "# makePicture(linesToAdd = initialLines, name = \"initialProc\", texSource = texSource, reportPath = reportPath)\n",
    "# makePicture(linesToAdd = initialLines, name = \"finalProc\",   texSource = texSource, reportPath = reportPath)"
   ]
  },
  {
   "cell_type": "code",
   "execution_count": 44,
   "metadata": {},
   "outputs": [
    {
     "ename": "AttributeError",
     "evalue": "'module' object has no attribute 'getcurrentdir'",
     "output_type": "error",
     "traceback": [
      "\u001b[0;31m---------------------------------------------------------------------------\u001b[0m",
      "\u001b[0;31mAttributeError\u001b[0m                            Traceback (most recent call last)",
      "\u001b[0;32m<ipython-input-44-e5150f427acd>\u001b[0m in \u001b[0;36m<module>\u001b[0;34m()\u001b[0m\n\u001b[0;32m----> 1\u001b[0;31m \u001b[0mcurdir\u001b[0m \u001b[0;34m=\u001b[0m \u001b[0mos\u001b[0m\u001b[0;34m.\u001b[0m\u001b[0mgetcurrentdir\u001b[0m\u001b[0;34m(\u001b[0m\u001b[0;34m)\u001b[0m\u001b[0;34m\u001b[0m\u001b[0m\n\u001b[0m\u001b[1;32m      2\u001b[0m \u001b[0mos\u001b[0m\u001b[0;34m.\u001b[0m\u001b[0mchdir\u001b[0m\u001b[0;34m(\u001b[0m\u001b[0mreportName\u001b[0m\u001b[0;34m)\u001b[0m\u001b[0;34m\u001b[0m\u001b[0m\n\u001b[1;32m      3\u001b[0m \u001b[0mcmd\u001b[0m  \u001b[0;34m=\u001b[0m \u001b[0;34m'pdflatex main.tex'\u001b[0m\u001b[0;34m\u001b[0m\u001b[0m\n\u001b[1;32m      4\u001b[0m \u001b[0mp_sub\u001b[0m \u001b[0;34m=\u001b[0m \u001b[0msubprocess\u001b[0m\u001b[0;34m.\u001b[0m\u001b[0mPopen\u001b[0m\u001b[0;34m(\u001b[0m\u001b[0mcmd_str\u001b[0m\u001b[0;34m,\u001b[0m\u001b[0mshell\u001b[0m\u001b[0;34m=\u001b[0m\u001b[0mTrue\u001b[0m\u001b[0;34m,\u001b[0m\u001b[0mstdout\u001b[0m\u001b[0;34m=\u001b[0m\u001b[0msubprocess\u001b[0m\u001b[0;34m.\u001b[0m\u001b[0mPIPE\u001b[0m\u001b[0;34m)\u001b[0m\u001b[0;34m\u001b[0m\u001b[0m\n\u001b[1;32m      5\u001b[0m \u001b[0mos\u001b[0m\u001b[0;34m.\u001b[0m\u001b[0mchdir\u001b[0m\u001b[0;34m(\u001b[0m\u001b[0mcurdir\u001b[0m\u001b[0;34m)\u001b[0m\u001b[0;34m\u001b[0m\u001b[0m\n",
      "\u001b[0;31mAttributeError\u001b[0m: 'module' object has no attribute 'getcurrentdir'"
     ]
    }
   ],
   "source": [
    "curdir = os.getcurrentdir()\n",
    "os.chdir(reportName)\n",
    "cmd  = 'pdflatex main.tex'\n",
    "p_sub = subprocess.Popen(cmd_str,shell=True,stdout=subprocess.PIPE)\n",
    "os.chdir(curdir)"
   ]
  },
  {
   "cell_type": "code",
   "execution_count": 492,
   "metadata": {},
   "outputs": [],
   "source": [
    "\n"
   ]
  },
  {
   "cell_type": "code",
   "execution_count": 530,
   "metadata": {},
   "outputs": [],
   "source": [
    "def draw3d(load_path, save_path):\n",
    "    cmd.delete('all')\n",
    "\n",
    "    ## generate axes\n",
    "    w = 0.06 # cylinder width \n",
    "    l = 3 # cylinder length\n",
    "    h = 0.25 # cone hight\n",
    "    d = w * 1.618 # cone base diameter\n",
    "\n",
    "    # start coords, end coords, w is radius, color1 with grad to color2 in rgb\n",
    "    obj = [CYLINDER, 0.0, 0.0, 0.0,   l, 0.0, 0.0, w, 1.0, 0.0, 0.0, 1.0, 0.0, 0.0,\n",
    "           CYLINDER, 0.0, 0.0, 0.0, 0.0,   l, 0.0, w, 0.0, 1.0, 0.0, 0.0, 1.0, 0.0,\n",
    "           CYLINDER, 0.0, 0.0, 0.0, 0.0, 0.0,   l, w, 0.0, 0.0, 1.0, 0.0, 0.0, 1.0,\n",
    "           CYLINDER, 0.0, 0.0, 0.0,   -l, 0.0, 0.0, w, 1.0, 0.0, 0.0, 1.0, 0.0, 0.0,\n",
    "           CYLINDER, 0.0, 0.0, 0.0, 0.0,   -l, 0.0, w, 0.0, 1.0, 0.0, 0.0, 1.0, 0.0,\n",
    "           CYLINDER, 0.0, 0.0, 0.0, 0.0, 0.0,   -l, w, 0.0, 0.0, 1.0, 0.0, 0.0, 1.0,\n",
    "          ]\n",
    "    # load axes into picture\n",
    "    cmd.load_cgo(obj, 'axes')\n",
    "\n",
    "    # load structure and define properties \n",
    "    cmd.load(load_path)\n",
    "    cmd.bg_color(color=\"white\")\n",
    "    util.cba\n",
    "    preset.ball_and_stick(selection='all', mode=1)\n",
    "    cmd.zoom('all', 1000, 0, 0)\n",
    "    cmd.set('depth_cue', 0)\n",
    "\n",
    "    # https://www.andre-gaschler.com/rotationconverter/\n",
    "    view = [0.8535534, -0.3535534,  0.3826834,\\\n",
    "       0.5205981,  0.5497281, -0.6532815,\\\n",
    "       0.0205981,  0.7568349,  0.6532815,\\\n",
    "         0.000000000,    0.000000000,  -22.395387650,\\\n",
    "         0.000147820,    0.000066757,    0.000249624,\\\n",
    "        18.378971100,   26.411804199,  -25.000000000 ]\n",
    "\n",
    "    cmd.set_view(view)\n",
    "    cmd.png(save_path + '1.png', 500, 500, 300, 0, 0)\n",
    "    \n",
    "    #view2 from the other side\n",
    "    for i in [2,3,4,5,6,7,8]:\n",
    "        view[i] = view[i]*(-1)\n",
    "    \n",
    "    cmd.set_view(view)\n",
    "    cmd.png(save_path + '2.png', 500, 500, 300, 0, 0)\n",
    "\n"
   ]
  },
  {
   "cell_type": "code",
   "execution_count": 531,
   "metadata": {},
   "outputs": [],
   "source": [
    "draw3d('initial/initialOrient.xyz', 'initial/initial_render')\n",
    "draw3d('final/initialOrient.xyz', 'initial/initial_render')"
   ]
  },
  {
   "cell_type": "code",
   "execution_count": null,
   "metadata": {},
   "outputs": [],
   "source": [
    "\n"
   ]
  }
 ],
 "metadata": {
  "anaconda-cloud": {},
  "kernelspec": {
   "display_name": "Python [conda env:smu]",
   "language": "python",
   "name": "conda-env-smu-py"
  },
  "language_info": {
   "codemirror_mode": {
    "name": "ipython",
    "version": 2
   },
   "file_extension": ".py",
   "mimetype": "text/x-python",
   "name": "python",
   "nbconvert_exporter": "python",
   "pygments_lexer": "ipython2",
   "version": "2.7.14"
  }
 },
 "nbformat": 4,
 "nbformat_minor": 1
}
