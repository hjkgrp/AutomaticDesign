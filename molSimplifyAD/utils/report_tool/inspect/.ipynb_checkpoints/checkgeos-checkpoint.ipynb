{
 "cells": [
  {
   "cell_type": "code",
   "execution_count": 53,
   "metadata": {},
   "outputs": [],
   "source": [
    "import os, sys, shutil, glob, subprocess\n",
    "from molSimplify.Classes.mol3D import *\n",
    "from molSimplify.Classes.ligand import *\n",
    "from molSimplify.Scripts.geometry import *\n"
   ]
  },
  {
   "cell_type": "code",
   "execution_count": 47,
   "metadata": {},
   "outputs": [],
   "source": [
    "def loadMols(initialPath, finalPath, reportPath):\n",
    "    # load in geos\n",
    "    finalMol = mol3D()\n",
    "    initialMol = mol3D()\n",
    "\n",
    "    initialMol.readfromxyz(initialPath + '/initial.xyz')\n",
    "    finalMol.readfromxyz(finalPath + '/final.xyz')\n",
    "\n",
    "    if not os.path.isdir(reportPath):\n",
    "        os.makedirs(reportPath)\n",
    "    filesToCopy = ['main','header']\n",
    "    for files in filesToCopy:\n",
    "        shutil.copy(texSource + files + '.tex', reportPath + files + '.tex')\n",
    "    \n",
    "    return initialMol, finalMol"
   ]
  },
  {
   "cell_type": "code",
   "execution_count": 49,
   "metadata": {
    "scrolled": true
   },
   "outputs": [],
   "source": [
    "def processInitialAndFinalToXyz(initialPath, initialMol, finalPath, finalMol):\n",
    "    # center on metal\n",
    "    initialMol.translate([-i for i in initialMol.getAtom(initialMol.findMetal()[0]).coords()])\n",
    "    finalMol.translate([-i for i in finalMol.getAtom(finalMol.findMetal()[0]).coords()])\n",
    "\n",
    "    print('######## INITIAL ########')\n",
    "    initialMolOrient, theta, u = orient(initialMol)\n",
    "    print('######## FINAL ########')\n",
    "    finalMolOrient = rotate_around_axis(finalMol,[0,0,0],u[0],-1*theta[0])\n",
    "    finalMolOrient = rotate_around_axis(finalMol,[0,0,0],u[1],-1*theta[1])\n",
    "    finalMolOrient = rotate_around_axis(finalMol,[0,0,0],u[2],-1*theta[2])\n",
    "    print('--reorientation done--')\n",
    "\n",
    "    initialMolOrient.writexyz(initialPath + '/initialOrient.xyz')\n",
    "    finalMolOrient.writexyz(finalPath + '/finalOrient.xyz')"
   ]
  },
  {
   "cell_type": "code",
   "execution_count": 44,
   "metadata": {},
   "outputs": [],
   "source": [
    "def orient(mol):\n",
    "    new_mol, theta1, u1 = rot(mol, 2)\n",
    "    new_mol, theta2, u2 = rot(new_mol, 1)\n",
    "    new_mol, theta3, u3 = rot(new_mol, 0)\n",
    "    return new_mol, [theta1, theta2, theta3], [u1, u2, u3]"
   ]
  },
  {
   "cell_type": "code",
   "execution_count": 45,
   "metadata": {},
   "outputs": [],
   "source": [
    "def rot(mol, component):\n",
    "    # component is 0,1,2 for x,y,z\n",
    "    print('------Component: ' + str(component) + '------')\n",
    "    maxComponent = 0\n",
    "    Vect = []\n",
    "    cInd = 0\n",
    "\n",
    "    for conAtoms in initialLigcons:\n",
    "        thisComponent = abs(mol.getAtom(conAtoms[0]).coords()[component])\n",
    "        if maxComponent < thisComponent:\n",
    "            Vect = mol.getAtom(conAtoms[0]).coords()\n",
    "            cInd = conAtoms[0]\n",
    "    \n",
    "    vectSize = norm(Vect)\n",
    "    if component == 0:\n",
    "        target = [vectSize, 0, 0]\n",
    "    elif component == 1:\n",
    "        target = [0, vectSize, 0]\n",
    "    elif component == 2:\n",
    "        target = [0, 0, vectSize]\n",
    "    \n",
    "    thetaold = vecangle(Vect, target)\n",
    "    \n",
    "    theta, u = rotation_params(Vect, [0,0,0], target)\n",
    "    new_mol = rotate_around_axis(mol, [0,0,0], u, (-1) * theta)\n",
    "    \n",
    "    VectNew = mol.getAtom(cInd).coords()\n",
    "    print('\\nafter rot the conatom is located at ' + str(VectNew))       \n",
    "    print(VectNew) \n",
    "    print('\\n')\n",
    "\n",
    "    return new_mol, theta, u\n",
    "    "
   ]
  },
  {
   "cell_type": "code",
   "execution_count": 54,
   "metadata": {},
   "outputs": [],
   "source": [
    "def draw3d(load_path, save_path):\n",
    "    cmd.delete('all')\n",
    "\n",
    "    ## generate axes\n",
    "    w = 0.06 # cylinder width \n",
    "    l = 3 # cylinder length\n",
    "    h = 0.25 # cone hight\n",
    "    d = w * 1.618 # cone base diameter\n",
    "\n",
    "    # start coords, end coords, w is radius, color1 with grad to color2 in rgb\n",
    "    obj = [CYLINDER, 0.0, 0.0, 0.0,   l, 0.0, 0.0, w, 1.0, 0.0, 0.0, 1.0, 0.0, 0.0,\n",
    "           CYLINDER, 0.0, 0.0, 0.0, 0.0,   l, 0.0, w, 0.0, 1.0, 0.0, 0.0, 1.0, 0.0,\n",
    "           CYLINDER, 0.0, 0.0, 0.0, 0.0, 0.0,   l, w, 0.0, 0.0, 1.0, 0.0, 0.0, 1.0,\n",
    "           CYLINDER, 0.0, 0.0, 0.0,   -l, 0.0, 0.0, w, 1.0, 0.0, 0.0, 1.0, 0.0, 0.0,\n",
    "           CYLINDER, 0.0, 0.0, 0.0, 0.0,   -l, 0.0, w, 0.0, 1.0, 0.0, 0.0, 1.0, 0.0,\n",
    "           CYLINDER, 0.0, 0.0, 0.0, 0.0, 0.0,   -l, w, 0.0, 0.0, 1.0, 0.0, 0.0, 1.0,\n",
    "          ]\n",
    "    # load axes into picture\n",
    "    cmd.load_cgo(obj, 'axes')\n",
    "\n",
    "    # load structure and define properties \n",
    "    cmd.load(load_path)\n",
    "    cmd.bg_color(color=\"white\")\n",
    "    util.cba\n",
    "    preset.ball_and_stick(selection='all', mode=1)\n",
    "    cmd.zoom('all', 1000, 0, 0)\n",
    "    cmd.set('depth_cue', 0)\n",
    "\n",
    "    # https://www.andre-gaschler.com/rotationconverter/\n",
    "    view = [0.8535534, -0.3535534,  0.3826834,\\\n",
    "       0.5205981,  0.5497281, -0.6532815,\\\n",
    "       0.0205981,  0.7568349,  0.6532815,\\\n",
    "         0.000000000,    0.000000000,  -22.395387650,\\\n",
    "         0.000147820,    0.000066757,    0.000249624,\\\n",
    "        18.378971100,   26.411804199,  -25.000000000 ]\n",
    "\n",
    "    cmd.set_view(view)\n",
    "    cmd.png(save_path + '1.png', 500, 500, 300, 0, 0)\n",
    "    \n",
    "    #view2 from the other side\n",
    "    for i in [2,3,4,5,6,7,8]:\n",
    "        view[i] = view[i]*(-1)\n",
    "    \n",
    "    cmd.set_view(view)\n",
    "    cmd.png(save_path + '2.png', 500, 500, 300, 0, 0)\n",
    "\n"
   ]
  },
  {
   "cell_type": "code",
   "execution_count": 78,
   "metadata": {},
   "outputs": [],
   "source": [
    "def compileTex():\n",
    "    print('\\n######## COMPILE ########')\n",
    "    os.chdir('reportName')\n",
    "    print('Compile in folder:')\n",
    "    print(os.getcwd())\n",
    "    cmd_str  = 'pdflatex main.tex'\n",
    "    p_sub = subprocess.Popen(cmd_str, shell = True, stdout = subprocess.PIPE)\n",
    "    os.chdir('..')"
   ]
  },
  {
   "cell_type": "code",
   "execution_count": 95,
   "metadata": {},
   "outputs": [
    {
     "name": "stderr",
     "output_type": "stream",
     "text": [
      "<ipython-input-95-57c440757cdb>:1: SyntaxWarning: import * only allowed at module level\n",
      "  def generateReport(initialPath, finalPath, reportPath):\n"
     ]
    }
   ],
   "source": [
    "def generateReport(initialPath, finalPath, reportPath):\n",
    "    try:\n",
    "        from pymol.cgo import *\n",
    "        from pymol import cmd\n",
    "        from pymol import preset\n",
    "        from pymol import utile\n",
    "    except ImportError:\n",
    "        raise ImportError('Import from pymol didn\\'t work.')\n",
    "    except Exception:\n",
    "        raise Exception('Unknown non-import related error.')\n",
    "    \n",
    "    # paths\n",
    "    initialPath = initialPath\n",
    "    finalPath = finalPath\n",
    "    reportPath = reportPath + \"/\"\n",
    "\n",
    "    initialMol, finalMol = loadMols(initialPath, finalPath, reportPath)\n",
    "    processInitialAndFinalToXyz(initialPath, initialMol, finalPath, finalMol)\n",
    "\n",
    "    draw3d(initialPath + '/initialOrient.xyz', initialPath + '/initial_render')\n",
    "    draw3d(finalPath + '/finalOrient.xyz', finalPath + '/final_render')\n",
    "\n",
    "    compileTex()"
   ]
  },
  {
   "cell_type": "code",
   "execution_count": 94,
   "metadata": {},
   "outputs": [
    {
     "ename": "Exception",
     "evalue": "Unknown non-import related error",
     "output_type": "error",
     "traceback": [
      "\u001b[0;31m---------------------------------------------------------------------------\u001b[0m",
      "\u001b[0;31mException\u001b[0m                                 Traceback (most recent call last)",
      "\u001b[0;32m<ipython-input-94-de99b4d9b75f>\u001b[0m in \u001b[0;36m<module>\u001b[0;34m()\u001b[0m\n\u001b[0;32m----> 1\u001b[0;31m \u001b[0mgenerateReport\u001b[0m\u001b[0;34m(\u001b[0m\u001b[0;34m\"initial\"\u001b[0m\u001b[0;34m,\u001b[0m \u001b[0;34m\"final\"\u001b[0m\u001b[0;34m,\u001b[0m \u001b[0;34m\"reportName\"\u001b[0m\u001b[0;34m)\u001b[0m\u001b[0;34m\u001b[0m\u001b[0m\n\u001b[0m",
      "\u001b[0;32m<ipython-input-93-722966d01c6c>\u001b[0m in \u001b[0;36mgenerateReport\u001b[0;34m(initialPath, finalPath, reportPath)\u001b[0m\n\u001b[1;32m      9\u001b[0m         \u001b[0;32mraise\u001b[0m \u001b[0mImportError\u001b[0m\u001b[0;34m(\u001b[0m\u001b[0;34m'Import from pymol didn\\'t work.'\u001b[0m\u001b[0;34m)\u001b[0m\u001b[0;34m\u001b[0m\u001b[0m\n\u001b[1;32m     10\u001b[0m     \u001b[0;32mexcept\u001b[0m \u001b[0mException\u001b[0m\u001b[0;34m:\u001b[0m\u001b[0;34m\u001b[0m\u001b[0m\n\u001b[0;32m---> 11\u001b[0;31m         \u001b[0;32mraise\u001b[0m \u001b[0mException\u001b[0m\u001b[0;34m(\u001b[0m\u001b[0;34m'Unknown non-import related error'\u001b[0m\u001b[0;34m)\u001b[0m\u001b[0;34m\u001b[0m\u001b[0m\n\u001b[0m\u001b[1;32m     12\u001b[0m \u001b[0;34m\u001b[0m\u001b[0m\n\u001b[1;32m     13\u001b[0m \u001b[0;34m\u001b[0m\u001b[0m\n",
      "\u001b[0;31mException\u001b[0m: Unknown non-import related error"
     ]
    }
   ],
   "source": [
    "generateReport(\"initial\", \"final\", \"reportName\")"
   ]
  }
 ],
 "metadata": {
  "anaconda-cloud": {},
  "kernelspec": {
   "display_name": "Python [conda env:smu]",
   "language": "python",
   "name": "conda-env-smu-py"
  },
  "language_info": {
   "codemirror_mode": {
    "name": "ipython",
    "version": 2
   },
   "file_extension": ".py",
   "mimetype": "text/x-python",
   "name": "python",
   "nbconvert_exporter": "python",
   "pygments_lexer": "ipython2",
   "version": "2.7.14"
  }
 },
 "nbformat": 4,
 "nbformat_minor": 1
}
