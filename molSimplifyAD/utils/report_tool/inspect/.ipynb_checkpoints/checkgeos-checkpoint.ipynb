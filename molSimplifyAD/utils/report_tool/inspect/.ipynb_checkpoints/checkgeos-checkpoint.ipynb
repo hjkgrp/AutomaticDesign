{
 "cells": [
  {
   "cell_type": "code",
<<<<<<< HEAD
   "execution_count": 1,
   "metadata": {
    "collapsed": false
   },
=======
   "execution_count": 53,
   "metadata": {},
>>>>>>> 1a502b15b0702889080f38b61d98ffa2d978cf27
   "outputs": [],
   "source": [
    "import os, sys, shutil, glob, subprocess\n",
    "import numpy as np\n",
    "from string import template\n",
    "from molSimplify.Classes.mol3D import *\n",
    "from molSimplify.Classes.ligand import *\n",
<<<<<<< HEAD
    "from molSimplify.Scripts.geometry import *\n",
    "from molSimplify.Informatics.geo_analyze import * \n",
    "from molSimplify.Informatics.misc_descriptors import * \n",
    "from pymol.cgo import *\n",
    "from pymol import cmd\n",
    "from pymol import preset\n",
    "from pymol import util"
=======
    "from molSimplify.Scripts.geometry import *\n"
>>>>>>> 73bcf741ec70ff7387d314eea073a41027c40d19
   ]
  },
  {
   "cell_type": "code",
<<<<<<< HEAD
   "execution_count": 2,
   "metadata": {
    "collapsed": false
   },
=======
   "execution_count": 47,
   "metadata": {},
>>>>>>> 1a502b15b0702889080f38b61d98ffa2d978cf27
   "outputs": [],
   "source": [
    "def loadMols(initialPath, finalPath, reportPath):\n",
    "    # load in geos\n",
    "    finalMol = mol3D()\n",
    "    initialMol = mol3D()\n",
    "\n",
    "    initialMol.readfromxyz(initialPath + '/initial.xyz')\n",
    "    finalMol.readfromxyz(finalPath + '/final.xyz')\n",
    "\n",
    "    if not os.path.isdir(reportPath):\n",
    "        os.makedirs(reportPath)\n",
    "    filesToCopy = ['main','header']\n",
    "    for files in filesToCopy:\n",
    "        shutil.copy(texSource + files + '.tex', reportPath + files + '.tex')\n",
    "    \n",
    "    return initialMol, finalMol"
   ]
  },
  {
   "cell_type": "code",
<<<<<<< HEAD
   "execution_count": null,
   "metadata": {
    "collapsed": true
=======
   "execution_count": 49,
   "metadata": {
    "scrolled": true
>>>>>>> 1a502b15b0702889080f38b61d98ffa2d978cf27
   },
   "outputs": [],
   "source": [
    "def processInitialAndFinalToXyz(initialPath, initialMol, finalPath, finalMol):\n",
    "    # center on metal\n",
    "    initialMol.translate([-i for i in initialMol.getAtom(initialMol.findMetal()[0]).coords()])\n",
    "    finalMol.translate([-i for i in finalMol.getAtom(finalMol.findMetal()[0]).coords()])\n",
    "\n",
    "    print('######## INITIAL ########')\n",
    "    initialMolOrient, theta, u = orient(initialMol)\n",
    "    print('######## FINAL ########')\n",
    "    finalMolOrient = rotate_around_axis(finalMol,[0,0,0],u[0],-1*theta[0])\n",
    "    finalMolOrient = rotate_around_axis(finalMol,[0,0,0],u[1],-1*theta[1])\n",
    "    finalMolOrient = rotate_around_axis(finalMol,[0,0,0],u[2],-1*theta[2])\n",
    "    print('--reorientation done--')\n",
    "\n",
    "    initialMolOrient.writexyz(initialPath + '/initialOrient.xyz')\n",
    "    finalMolOrient.writexyz(finalPath + '/finalOrient.xyz')"
   ]
  },
  {
   "cell_type": "code",
<<<<<<< HEAD
   "execution_count": null,
   "metadata": {
    "collapsed": false
   },
=======
   "execution_count": 44,
   "metadata": {},
>>>>>>> 1a502b15b0702889080f38b61d98ffa2d978cf27
   "outputs": [],
   "source": [
    "def orient(mol):\n",
    "    new_mol, theta1, u1 = rot(mol, 2)\n",
    "    new_mol, theta2, u2 = rot(new_mol, 1)\n",
    "    new_mol, theta3, u3 = rot(new_mol, 0)\n",
    "    return new_mol, [theta1, theta2, theta3], [u1, u2, u3]"
   ]
  },
  {
   "cell_type": "code",
<<<<<<< HEAD
   "execution_count": null,
   "metadata": {
    "collapsed": true
   },
=======
   "execution_count": 45,
   "metadata": {},
>>>>>>> 1a502b15b0702889080f38b61d98ffa2d978cf27
   "outputs": [],
   "source": [
    "def rot(mol, component):\n",
    "    # component is 0,1,2 for x,y,z\n",
    "    print('------Component: ' + str(component) + '------')\n",
    "    maxComponent = 0\n",
    "    Vect = []\n",
    "    cInd = 0\n",
    "\n",
    "    for conAtoms in initialLigcons:\n",
    "        thisComponent = abs(mol.getAtom(conAtoms[0]).coords()[component])\n",
    "        if maxComponent < thisComponent:\n",
    "            Vect = mol.getAtom(conAtoms[0]).coords()\n",
    "            cInd = conAtoms[0]\n",
    "    \n",
    "    vectSize = norm(Vect)\n",
    "    if component == 0:\n",
    "        target = [vectSize, 0, 0]\n",
    "    elif component == 1:\n",
    "        target = [0, vectSize, 0]\n",
    "    elif component == 2:\n",
    "        target = [0, 0, vectSize]\n",
    "    \n",
    "    thetaold = vecangle(Vect, target)\n",
    "    \n",
    "    theta, u = rotation_params(Vect, [0,0,0], target)\n",
    "    new_mol = rotate_around_axis(mol, [0,0,0], u, (-1) * theta)\n",
    "    \n",
    "    VectNew = mol.getAtom(cInd).coords()\n",
    "    print('\\nafter rot the conatom is located at ' + str(VectNew))       \n",
    "    print(VectNew) \n",
    "    print('\\n')\n",
    "\n",
    "    return new_mol, theta, u\n",
    "    "
   ]
  },
  {
   "cell_type": "code",
<<<<<<< HEAD
   "execution_count": null,
   "metadata": {
    "collapsed": true
   },
   "outputs": [],
   "source": [
    "def orient(mol):\n",
    "    new_mol, theta1, u1 = rot(mol, 2)\n",
    "    new_mol, theta2, u2 = rot(new_mol, 1)\n",
    "    new_mol, theta3, u3 = rot(new_mol, 0)\n",
    "    return new_mol, [theta1, theta2, theta3], [u1, u2, u3]"
   ]
  },
  {
   "cell_type": "code",
   "execution_count": null,
   "metadata": {
    "collapsed": false,
    "scrolled": true
   },
   "outputs": [],
   "source": [
    "## initial geo parse\n",
    "# spatialMax = [0,0,0]\n",
    "\n",
    "# center on metal\n",
    "initialMol.translate([-i for i in initialMol.getAtom(initialMol.findMetal()[0]).coords()])\n",
    "finalMol.translate([-i for i in finalMol.getAtom(finalMol.findMetal()[0]).coords()])\n",
    "\n",
    "print('######## INITIAL ########')\n",
    "initialMolOrient, theta, u = orient(initialMol)\n",
    "print('######## FINAL ########')\n",
    "finalMolOrient = rotate_around_axis(finalMol,[0,0,0],u[0],-1*theta[0])\n",
    "finalMolOrient = rotate_around_axis(finalMol,[0,0,0],u[1],-1*theta[1])\n",
    "finalMolOrient = rotate_around_axis(finalMol,[0,0,0],u[2],-1*theta[2])\n",
    "print('--reorientation done--')\n",
    "\n",
    "initialMolOrient.writexyz('initial/initialOrient.xyz')\n",
    "finalMolOrient.writexyz('final/finalOrient.xyz')"
   ]
  },
  {
   "cell_type": "code",
   "execution_count": null,
   "metadata": {
    "collapsed": true
   },
   "outputs": [],
   "source": [
    "# intial loop to get scaling\n",
    "# for atom in new_mol.atoms:\n",
    "#     x, y, z = atom.coords()\n",
    "#     if abs(x) >= spatialMax[0]:\n",
    "#         spatialMax[0] = abs(x)\n",
    "#     if abs(y) >= spatialMax[1]:\n",
    "#         spatialMax[1] = abs(y)\n",
    "#     if abs(z) >= spatialMax[2]:\n",
    "#         spatialMax[2] = abs(z)\n",
    "\n",
    "# print(new_mol.coords())\n",
    "# spatialScaling = max([8 / i for i in spatialMax])\n",
    "\n",
    "# initialLines = []\n",
    "\n",
    "# intial loop to get scaling\n",
    "# for atom in new_mol.atoms:\n",
    "#     initialLines.append(prepareAtomLine(atom.symbol(),[float(c)*spatialScaling for i,c in enumerate(atom.coords())]))\n",
    "#     #initialLines.append(prepareAtomLine(atom.symbol(),atom.coords()))\n",
    "    \n",
    "# makePicture(linesToAdd = initialLines, name = \"initialProc\", texSource = texSource, reportPath = reportPath)\n",
    "# makePicture(linesToAdd = initialLines, name = \"finalProc\",   texSource = texSource, reportPath = reportPath)"
   ]
  },
  {
   "cell_type": "code",
   "execution_count": null,
   "metadata": {
    "collapsed": false
   },
   "outputs": [],
   "source": [
    "curdir = os.getcurrentdir()\n",
    "os.chdir(reportName)\n",
    "cmd  = 'pdflatex main.tex'\n",
    "p_sub = subprocess.Popen(cmd_str,shell=True,stdout=subprocess.PIPE)\n",
    "os.chdir(curdir)"
   ]
  },
  {
   "cell_type": "code",
   "execution_count": null,
   "metadata": {
    "collapsed": true
   },
   "outputs": [],
   "source": [
    "\n"
   ]
  },
  {
   "cell_type": "code",
   "execution_count": null,
   "metadata": {
    "collapsed": true
   },
=======
   "execution_count": 54,
   "metadata": {},
>>>>>>> 1a502b15b0702889080f38b61d98ffa2d978cf27
   "outputs": [],
   "source": [
    "def draw3d(load_path, save_path):\n",
    "    cmd.delete('all')\n",
    "\n",
    "    ## generate axes\n",
    "    w = 0.06 # cylinder width \n",
    "    l = 3 # cylinder length\n",
    "    h = 0.25 # cone hight\n",
    "    d = w * 1.618 # cone base diameter\n",
    "\n",
    "    # start coords, end coords, w is radius, color1 with grad to color2 in rgb\n",
    "    obj = [CYLINDER, 0.0, 0.0, 0.0,   l, 0.0, 0.0, w, 1.0, 0.0, 0.0, 1.0, 0.0, 0.0,\n",
    "           CYLINDER, 0.0, 0.0, 0.0, 0.0,   l, 0.0, w, 0.0, 1.0, 0.0, 0.0, 1.0, 0.0,\n",
    "           CYLINDER, 0.0, 0.0, 0.0, 0.0, 0.0,   l, w, 0.0, 0.0, 1.0, 0.0, 0.0, 1.0,\n",
    "           CYLINDER, 0.0, 0.0, 0.0,   -l, 0.0, 0.0, w, 1.0, 0.0, 0.0, 1.0, 0.0, 0.0,\n",
    "           CYLINDER, 0.0, 0.0, 0.0, 0.0,   -l, 0.0, w, 0.0, 1.0, 0.0, 0.0, 1.0, 0.0,\n",
    "           CYLINDER, 0.0, 0.0, 0.0, 0.0, 0.0,   -l, w, 0.0, 0.0, 1.0, 0.0, 0.0, 1.0,\n",
    "          ]\n",
    "    # load axes into picture\n",
    "    cmd.load_cgo(obj, 'axes')\n",
    "\n",
    "    # load structure and define properties \n",
    "    cmd.load(load_path)\n",
    "    cmd.bg_color(color=\"white\")\n",
    "    util.cba\n",
    "    preset.ball_and_stick(selection='all', mode=1)\n",
    "    cmd.zoom('all', 1000, 0, 0)\n",
    "    cmd.set('depth_cue', 0)\n",
    "\n",
    "    # https://www.andre-gaschler.com/rotationconverter/\n",
    "    view = [0.8535534, -0.3535534,  0.3826834,\\\n",
    "       0.5205981,  0.5497281, -0.6532815,\\\n",
    "       0.0205981,  0.7568349,  0.6532815,\\\n",
    "         0.000000000,    0.000000000,  -22.395387650,\\\n",
    "         0.000147820,    0.000066757,    0.000249624,\\\n",
    "        18.378971100,   26.411804199,  -25.000000000 ]\n",
    "\n",
    "    cmd.set_view(view)\n",
    "    cmd.png(save_path + '1.png', 500, 500, 300, 0, 0)\n",
    "    \n",
    "    #view2 from the other side\n",
    "    for i in [2,3,4,5,6,7,8]:\n",
    "        view[i] = view[i]*(-1)\n",
    "    \n",
    "    cmd.set_view(view)\n",
    "    cmd.png(save_path + '2.png', 500, 500, 300, 0, 0)\n",
    "\n"
   ]
  },
  {
   "cell_type": "code",
<<<<<<< HEAD
<<<<<<< HEAD
   "execution_count": null,
   "metadata": {
    "collapsed": true
   },
   "outputs": [],
   "source": [
    "draw3d('initial/initialOrient.xyz', 'initial/initial_render')\n",
    "draw3d('final/initialOrient.xyz', 'initial/initial_render')"
=======
   "execution_count": 73,
=======
   "execution_count": 78,
>>>>>>> 73bcf741ec70ff7387d314eea073a41027c40d19
   "metadata": {},
   "outputs": [],
   "source": [
    "def compileTex():\n",
    "    print('\\n######## COMPILE ########')\n",
    "    os.chdir('reportName')\n",
    "    print('Compile in folder:')\n",
    "    print(os.getcwd())\n",
    "    cmd_str  = 'pdflatex main.tex'\n",
    "    p_sub = subprocess.Popen(cmd_str, shell = True, stdout = subprocess.PIPE)\n",
    "    os.chdir('..')"
   ]
  },
  {
   "cell_type": "code",
   "execution_count": 95,
   "metadata": {},
   "outputs": [
    {
     "name": "stderr",
     "output_type": "stream",
     "text": [
      "<ipython-input-95-57c440757cdb>:1: SyntaxWarning: import * only allowed at module level\n",
      "  def generateReport(initialPath, finalPath, reportPath):\n"
     ]
    }
   ],
   "source": [
    "def generateReport(initialPath, finalPath, reportPath):\n",
    "    try:\n",
    "        from pymol.cgo import *\n",
    "        from pymol import cmd\n",
    "        from pymol import preset\n",
    "        from pymol import utile\n",
    "    except ImportError:\n",
    "        raise ImportError('Import from pymol didn\\'t work.')\n",
    "    except Exception:\n",
    "        raise Exception('Unknown non-import related error.')\n",
    "    \n",
    "    # paths\n",
    "    initialPath = initialPath\n",
    "    finalPath = finalPath\n",
    "    reportPath = reportPath + \"/\"\n",
    "\n",
    "    initialMol, finalMol = loadMols(initialPath, finalPath, reportPath)\n",
    "    processInitialAndFinalToXyz(initialPath, initialMol, finalPath, finalMol)\n",
    "\n",
    "    draw3d(initialPath + '/initialOrient.xyz', initialPath + '/initial_render')\n",
    "    draw3d(finalPath + '/finalOrient.xyz', finalPath + '/final_render')\n",
    "\n",
    "    compileTex()"
   ]
  },
  {
   "cell_type": "code",
   "execution_count": 94,
   "metadata": {},
   "outputs": [
    {
     "ename": "Exception",
     "evalue": "Unknown non-import related error",
     "output_type": "error",
     "traceback": [
      "\u001b[0;31m---------------------------------------------------------------------------\u001b[0m",
      "\u001b[0;31mException\u001b[0m                                 Traceback (most recent call last)",
      "\u001b[0;32m<ipython-input-94-de99b4d9b75f>\u001b[0m in \u001b[0;36m<module>\u001b[0;34m()\u001b[0m\n\u001b[0;32m----> 1\u001b[0;31m \u001b[0mgenerateReport\u001b[0m\u001b[0;34m(\u001b[0m\u001b[0;34m\"initial\"\u001b[0m\u001b[0;34m,\u001b[0m \u001b[0;34m\"final\"\u001b[0m\u001b[0;34m,\u001b[0m \u001b[0;34m\"reportName\"\u001b[0m\u001b[0;34m)\u001b[0m\u001b[0;34m\u001b[0m\u001b[0m\n\u001b[0m",
      "\u001b[0;32m<ipython-input-93-722966d01c6c>\u001b[0m in \u001b[0;36mgenerateReport\u001b[0;34m(initialPath, finalPath, reportPath)\u001b[0m\n\u001b[1;32m      9\u001b[0m         \u001b[0;32mraise\u001b[0m \u001b[0mImportError\u001b[0m\u001b[0;34m(\u001b[0m\u001b[0;34m'Import from pymol didn\\'t work.'\u001b[0m\u001b[0;34m)\u001b[0m\u001b[0;34m\u001b[0m\u001b[0m\n\u001b[1;32m     10\u001b[0m     \u001b[0;32mexcept\u001b[0m \u001b[0mException\u001b[0m\u001b[0;34m:\u001b[0m\u001b[0;34m\u001b[0m\u001b[0m\n\u001b[0;32m---> 11\u001b[0;31m         \u001b[0;32mraise\u001b[0m \u001b[0mException\u001b[0m\u001b[0;34m(\u001b[0m\u001b[0;34m'Unknown non-import related error'\u001b[0m\u001b[0;34m)\u001b[0m\u001b[0;34m\u001b[0m\u001b[0m\n\u001b[0m\u001b[1;32m     12\u001b[0m \u001b[0;34m\u001b[0m\u001b[0m\n\u001b[1;32m     13\u001b[0m \u001b[0;34m\u001b[0m\u001b[0m\n",
      "\u001b[0;31mException\u001b[0m: Unknown non-import related error"
     ]
    }
   ],
   "source": [
    "generateReport(\"initial\", \"final\", \"reportName\")"
>>>>>>> 1a502b15b0702889080f38b61d98ffa2d978cf27
   ]
<<<<<<< HEAD
  },
  {
   "cell_type": "code",
   "execution_count": 46,
   "metadata": {
    "collapsed": false
   },
   "outputs": [
    {
     "name": "stdout",
     "output_type": "stream",
     "text": [
      "getting lig assignment\n",
      "[[2.45], [2.45]]\n",
      "[[2.45], [2.45], [2.45], [2.45]]\n",
      "getting lig assignment\n",
      "[[2.377422038884241], [2.434099363908185]]\n",
      "[[2.3089556694695355], [2.367587314679404], [2.3864034110286694], [2.3709884573644624]]\n"
     ]
    }
   ],
   "source": [
    "def makeGeoReportDictionary(initialMol,finalMol):\n",
    "    # return dictionary\n",
    "    repDict = dict()\n",
    "    # update run info from MAD\n",
    "    repDict.update({\"NAME\":\"TRIAL\"})\n",
    "    repDict.update({\"METAL\":\"Fe\"})\n",
    "    repDict.update({\"LIGS\":\"smiXX/smiXX/smiXX\"})\n",
    "    repDict.update({\"OX\":\"II\"})\n",
    "    repDict.update({\"SPIN\":\"5\"})\n",
    "    repDict.update({\"STATUS\":\"8\"})\n",
    "    \n",
    "    # measure bonds\n",
    "    init_ax_dist, init_eq_dist = getOctBondDistances(initialMol)\n",
    "    try:\n",
    "        init_av_ax = '{0:.2f}'.format(np.mean(init_ax_dist))\n",
    "    except:\n",
    "        init_av_ax = \"er\"\n",
    "    try:\n",
    "        init_av_eq = '{0:.2f}'.format(np.mean(init_eq_dist))\n",
    "    except:\n",
    "        init_av_eq = \"er\"\n",
    "\n",
    "    repDict.update({\"initalBL\":\"/\".join([init_av_eq,init_av_ax])}) \n",
    "    \n",
    "    \n",
    "    final_ax_dist, final_eq_dist = getOctBondDistances(finalMol)\n",
    "    try:\n",
    "        final_av_ax = '{0:.2f}'.format(np.mean(final_ax_dist))\n",
    "    except:\n",
    "        final_av_ax = \"er\"\n",
    "    try:\n",
    "        final_av_eq = '{0:.2f}'.format(np.mean(final_eq_dist))\n",
    "    except:\n",
    "        final_av_eq = \"er\"\n",
    "\n",
    "    repDict.update({\"finalBL\":\"/\".join([final_av_eq,final_av_ax])}) \n",
    "    \n",
    "    # get denticity\n",
    "    resdict = generate_all_ligand_misc(initialMol,loud=False)\n",
    "    init_ax_dent = resdict[\"result_ax\"]\n",
    "    init_eq_dent = resdict[\"result_eq\"]\n",
    "    repDict.update({\"initialDent\":\"/\".join([ str(i) for i in init_eq_dent+init_ax_dent])})\n",
    "    \n",
    "    resdict = generate_all_ligand_misc(finalMol,loud=False)\n",
    "    final_ax_dent = resdict[\"result_ax\"]\n",
    "    final_eq_dent = resdict[\"result_eq\"]\n",
    "    repDict.update({\"FinalDent\":\"/\".join([ str(i) for i in final_ax_dent+final_eq_dent])})\n",
    "    \n",
    "    # geo check calls\n",
    "    init_flag_oct, init_flag_list, init_dict_oct_info = initialMol.IsOct()\n",
    "    try:\n",
    "        init_AD = '{0:.2f}'.format(init_dict_oct_info[\"oct_angle_devi_max\"])\n",
    "    except:\n",
    "        init_AD = 'er'\n",
    "    repDict.update({\"initialAD\":init_AD})\n",
    "    \n",
    "    final_flag_oct, final_flag_list, final_dict_oct_info = finalMol.IsOct(init_mol=initialMol)\n",
    "    try:\n",
    "        final_AD = '{0:.2f}'.format(final_dict_oct_info[\"oct_angle_devi_max\"])\n",
    "    except:\n",
    "        final_AD = 'er'\n",
    "    repDict.update({\"finalAD\":final_AD})\n",
    "    \n",
    "    # fail list \n",
    "    repDict.update({\"initialFL\":final_flag_list})\n",
    "    repDict.update({\"finalFL\":final_flag_list})\n",
    "    \n",
    "    # rmsd \n",
    "    \n",
    "    try:\n",
    "        rmsd = '{0:.2f}'.format(final_dict_oct_info[\"rmsd_max\"])\n",
    "    except:\n",
    "        rmsd = 'er'\n",
    "    repDict.update({\"RMSD\":rmsd})\n",
    "    return repDict\n",
    "repDict = makeGeoReportDictionary(initialMol,finalMol)\n",
    "\n",
    "\n",
    "filein = open(texSource+'summaryTemplate.tex','r')\n",
    "filein.seek(0)\n",
    "src = Template(filein.read())\n",
    "#do the substitution\n",
    "srcd = src.safe_substitute(repDict)\n",
    "with open(reportPath + 'summary.tex','w') as f:\n",
    "    f.write(srcd)\n",
    "filein.close()"
   ]
  },
  {
   "cell_type": "code",
   "execution_count": 47,
   "metadata": {
    "collapsed": false
   },
   "outputs": [
    {
     "data": {
      "text/plain": [
       "'../autotikz/'"
      ]
     },
     "execution_count": 47,
     "metadata": {},
     "output_type": "execute_result"
    }
   ],
   "source": [
    "texSource"
   ]
  },
  {
   "cell_type": "code",
   "execution_count": 4,
   "metadata": {
    "collapsed": false
   },
   "outputs": [
    {
     "data": {
      "text/plain": [
       "{'atom_dist_max': 0.05321132609372134,\n",
       " 'devi_linear_avrg': 0,\n",
       " 'devi_linear_max': 0,\n",
       " 'dist_del_all': 0.1251436944386497,\n",
       " 'dist_del_eq': 0.018816096349265177,\n",
       " 'max_del_sig_angle': 7.2737722660320401,\n",
       " 'num_coord_metal': 6,\n",
       " 'oct_angle_devi_max': 4.608051083150329,\n",
       " 'rmsd_max': 0.05321132609372109}"
      ]
     },
     "execution_count": 4,
     "metadata": {},
     "output_type": "execute_result"
    }
   ],
   "source": [
    "final_dict_oct_info"
   ]
  },
  {
   "cell_type": "code",
   "execution_count": 7,
   "metadata": {
    "collapsed": false
   },
   "outputs": [
    {
     "data": {
      "text/plain": [
       "[1]"
      ]
     },
     "execution_count": 7,
     "metadata": {},
     "output_type": "execute_result"
    }
   ],
   "source": [
    "init_eq_dent"
   ]
  },
  {
   "cell_type": "code",
   "execution_count": null,
   "metadata": {
    "collapsed": true
   },
   "outputs": [],
   "source": []
=======
>>>>>>> 73bcf741ec70ff7387d314eea073a41027c40d19
  }
 ],
 "metadata": {
  "anaconda-cloud": {},
  "kernelspec": {
   "display_name": "Python [conda env:mols]",
   "language": "python",
   "name": "conda-env-mols-py"
  },
  "language_info": {
   "codemirror_mode": {
    "name": "ipython",
    "version": 2
   },
   "file_extension": ".py",
   "mimetype": "text/x-python",
   "name": "python",
   "nbconvert_exporter": "python",
   "pygments_lexer": "ipython2",
   "version": "2.7.14"
  }
 },
 "nbformat": 4,
 "nbformat_minor": 1
}
