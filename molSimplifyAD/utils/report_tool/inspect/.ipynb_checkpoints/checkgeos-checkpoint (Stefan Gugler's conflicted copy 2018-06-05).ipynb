{
 "cells": [
  {
   "cell_type": "code",
   "execution_count": 8,
   "metadata": {},
   "outputs": [],
   "source": [
    "import os, sys, shutil, glob, subprocess\n",
    "from molSimplify.Classes.mol3D import *\n",
    "from molSimplify.Classes.ligand import *\n",
    "from molSimplify.Scripts.geometry import *"
   ]
  },
  {
   "cell_type": "code",
   "execution_count": 9,
   "metadata": {},
   "outputs": [],
   "source": [
    "# paths\n",
    "initialPath = \"initial/initial.xyz\"\n",
    "finalPath = \"initial/initial.xyz\"\n",
    "texSource = \"../autotikz/\"\n",
    "reportPath = \"reportName/\"\n",
    "\n",
    "# load in geos\n",
    "finalMol = mol3D()\n",
    "initialMol = mol3D()\n",
    "initialMol.readfromxyz(initialPath)\n",
    "finalMol.readfromxyz(finalPath)\n",
    "\n",
    "\n",
    "if not os.path.isdir(reportPath):\n",
    "    os.makedirs(reportPath)\n",
    "filesToCopy = ['main','tikz_styles','header']\n",
    "for files in filesToCopy:\n",
    "    shutil.copy(texSource + files+'.tex',reportPath + files+'.tex')\n"
   ]
  },
  {
   "cell_type": "code",
   "execution_count": 26,
   "metadata": {
    "collapsed": true
   },
   "outputs": [],
   "source": [
    "def prepareAtomLine(symbol,coords):\n",
    "    # target = \\drawFeAtom{5}{5}{-12}\n",
    "    drawType = str(symbol)+'Atom'\n",
    "    return \"    \\draw\"+drawType +\"{\" + \"}{\".join([str(i) for i in coords]) + \"}\\n\"\n",
    "\n",
    "def makePicture(linesToAdd,name,texSource,reportPath):\n",
    "    with open(reportPath + name +'.tex', 'w') as newf:\n",
    "        with open(texSource + \"pictureTemplate.tex\",'r') as ref:\n",
    "            reflines = ref.readlines()\n",
    "        for lines in reflines:\n",
    "            if lines.find(\"%% new stuff goes here!\") == -1:\n",
    "                newf.write(lines)\n",
    "            else:\n",
    "                for newlines in linesToAdd:\n",
    "                    newf.write(newlines)\n",
    "                    "
   ]
  },
  {
   "cell_type": "code",
   "execution_count": 27,
   "metadata": {},
   "outputs": [
    {
     "name": "stdout",
     "output_type": "stream",
     "text": [
      "[1, 1, 1, 1, 1, 1]\n",
      "[1, 2, 3]\n",
      "[[1], [4], [7], [10], [13], [16]]\n"
     ]
    }
   ],
   "source": [
    "initialLiglist, initialLigdents, initialLigcons = ligand_breakdown(initialMol)\n",
    "print(initialLigdents)\n",
    "initailLigatoms = [len(i) for i in initialLiglist]  # number of atoms \n",
    "print(initialLiglist[0])\n",
    "print(initialLigcons)"
   ]
  },
  {
   "cell_type": "code",
   "execution_count": 54,
   "metadata": {},
   "outputs": [
    {
     "name": "stdout",
     "output_type": "stream",
     "text": [
      "[1.9406681878999998, -0.4489589004, 0.3409347359]\n",
      "2.02088931016\n",
      " atom located at [1.9406681878999998, -0.4489589004, 0.3409347359]\n",
      "the target is located at [2.020889310159923, 0, 0]\n",
      "vector angle  is 16.1978714929\n",
      "(163.80212850707994, array([-0.        ,  0.68899136,  0.90729624]))\n",
      "after rot the conatom is located at [-2.0208893101599226, -1.27675647831893e-15, 9.4368957093138306e-16]\n"
     ]
    }
   ],
   "source": [
    "## initial geo parse\n",
    "spatialMax = [0,0,0]\n",
    "initialMol = mol3D()\n",
    "initialMol.readfromxyz(initialPath)\n",
    "# center on metal\n",
    "initialMol.translate([-i for i in initialMol.getAtom(initialMol.findMetal()[0]).coords()])\n",
    "# rotate\n",
    "maxX = 0\n",
    "xVect = []\n",
    "cInd = 0\n",
    "for conAtoms in initialLigcons:\n",
    "    thisX = abs(initialMol.getAtom(conAtoms[0]).coords()[0])\n",
    "    if maxX < thisX:\n",
    "        xVect = initialMol.getAtom(conAtoms[0]).coords()\n",
    "        cInd = conAtoms[0]\n",
    "        maxX = thisX\n",
    "print(xVect)\n",
    "vectSize = norm(xVect)\n",
    "print(vectSize)\n",
    "target = [vectSize,0,0]\n",
    "thetaold = vecangle(xVect,target)\n",
    "\n",
    "print(' atom located at ' + str(xVect))\n",
    "print('the target is located at ' + str(target))\n",
    "print('vector angle  is ' + str(thetaold))\n",
    "\n",
    "\n",
    "\n",
    "\n",
    "theta,u = rotation_params(xVect,[0,0,0],target)\n",
    "print(theta,u)\n",
    "new_mol = rotate_around_axis(initialMol,[0,0,0],u,-1*theta)\n",
    "new_mol.writexyz('rot.xyz')\n",
    "\n",
    "\n",
    "\n",
    "xVectNew = initialMol.getAtom(cInd).coords()\n",
    "print('after rot the conatom is located at ' + str(xVectNew))\n"
   ]
  },
  {
   "cell_type": "code",
   "execution_count": 13,
   "metadata": {},
   "outputs": [],
   "source": [
    "\n",
    "        \n",
    "\n",
    "# intial loop to get scaling\n",
    "for atom in  initialMol.atoms:\n",
    "    x,y,z= atom.coords()\n",
    "    if abs(x) >= spatialMax[0]:\n",
    "        spatialMax[0] = abs(x)\n",
    "    if abs(y) >= spatialMax[1]:\n",
    "        spatialMax[1] = abs(y)\n",
    "    if abs(z) >= spatialMax[2]:\n",
    "        spatialMax[2] = abs(z)\n",
    "spatialScaling = [ 18/i for i in spatialMax]\n",
    "\n",
    "initialLines = []\n",
    "\n",
    "# intial loop to get scaling\n",
    "for atom in  initialMol.atoms:\n",
    "    #initialLines.append(prepareAtomLine(atom.symbol(),[float(c)*spatialScaling[i] for i,c in enumerate(atom.coords())]))\n",
    "    initialLines.append(prepareAtomLine(atom.symbol(),atom.coords()))\n",
    "makePicture(linesToAdd=initialLines,name=\"initialProc\",texSource=texSource,reportPath=reportPath)\n",
    "makePicture(linesToAdd=initialLines,name=\"finalProc\",texSource=texSource,reportPath=reportPath)"
   ]
  },
  {
   "cell_type": "code",
   "execution_count": 6,
   "metadata": {},
   "outputs": [
    {
     "ename": "SyntaxError",
     "evalue": "EOL while scanning string literal (<ipython-input-6-a59d51fe6025>, line 1)",
     "output_type": "error",
     "traceback": [
      "\u001b[0;36m  File \u001b[0;32m\"<ipython-input-6-a59d51fe6025>\"\u001b[0;36m, line \u001b[0;32m1\u001b[0m\n\u001b[0;31m    cmd  = '' '\u001b[0m\n\u001b[0m              ^\u001b[0m\n\u001b[0;31mSyntaxError\u001b[0m\u001b[0;31m:\u001b[0m EOL while scanning string literal\n"
     ]
    }
   ],
   "source": [
    "curdir = os.getcurrentdir()\n",
    "os.chdir(reportName)\n",
    "cmd  = 'pdflatex main.tex'\n",
    "p_sub = subprocess.Popen(cmd_str,shell=True,stdout=subprocess.PIPE)\n",
    "os.chdir(curdir)"
   ]
  },
  {
   "cell_type": "code",
   "execution_count": 15,
   "metadata": {},
   "outputs": [
    {
     "data": {
      "text/plain": [
       "'    \\\\drawOAtom{0.2917808261}{1.9932129786}{-0.1670413407}\\n'"
      ]
     },
     "execution_count": 15,
     "metadata": {},
     "output_type": "execute_result"
    }
   ],
   "source": [
    "initialLines[1]"
   ]
  },
  {
   "cell_type": "code",
   "execution_count": null,
   "metadata": {
    "collapsed": true
   },
   "outputs": [],
   "source": []
  }
 ],
 "metadata": {
  "anaconda-cloud": {},
  "kernelspec": {
   "display_name": "Python [conda env:smu]",
   "language": "python",
   "name": "conda-env-smu-py"
  },
  "language_info": {
   "codemirror_mode": {
    "name": "ipython",
    "version": 2
   },
   "file_extension": ".py",
   "mimetype": "text/x-python",
   "name": "python",
   "nbconvert_exporter": "python",
   "pygments_lexer": "ipython2",
   "version": "2.7.14"
  }
 },
 "nbformat": 4,
 "nbformat_minor": 1
}
