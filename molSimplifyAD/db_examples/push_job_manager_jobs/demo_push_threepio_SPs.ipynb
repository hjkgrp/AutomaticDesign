{
 "cells": [
  {
   "cell_type": "code",
   "execution_count": 1,
   "metadata": {},
   "outputs": [
    {
     "name": "stderr",
     "output_type": "stream",
     "text": [
      "Using TensorFlow backend.\n"
     ]
    },
    {
     "name": "stdout",
     "output_type": "stream",
     "text": [
      "connection to pymol unsuccessful.\n"
     ]
    }
   ],
   "source": [
    "from molSimplifyAD.utils.pymongo_tools import connect2db, insert, count_find, convert2dataframe, push2db\n",
    "from molSimplifyAD.job_manager_utils.job_converter import jobmanager2mAD, loop_convert_jobs, collect_base_jobs, associated_jobs\n",
    "from molSimplify.job_manager.tools import list_active_jobs\n",
    "from molSimplifyAD.dbclass_mongo import tmcMongo"
   ]
  },
  {
   "cell_type": "code",
   "execution_count": 2,
   "metadata": {},
   "outputs": [],
   "source": [
    "from os.path import expanduser\n",
    "home = expanduser(\"~\")\n",
    "dbconfig = json.load(open(home + \"/.db_config\"))\n",
    "\n",
    "db = connect2db(user=dbconfig['user'], pwd=dbconfig['pwd'],\n",
    "                host=\"localhost\", port=27017,\n",
    "                database='tmc', auth=True)"
   ]
  },
  {
   "cell_type": "markdown",
   "metadata": {},
   "source": [
    "## Test on one folder"
   ]
  },
  {
   "cell_type": "code",
   "execution_count": 3,
   "metadata": {},
   "outputs": [
    {
     "name": "stdout",
     "output_type": "stream",
     "text": [
      "(21, 0, ['/home2/threepio/CSD/active/21_active/TUMBEK/spin_2', 'TUMBEK_s2'])\n",
      "('mulliken spins: ', [1.0333541])\n",
      "/home2/threepio/CSD/active/21_active/TUMBEK/spin_2/scr//TUMBEK_s2.molden\n",
      "\n",
      " checking /home2/threepio/CSD/active/21_active/TUMBEK/spin_2/scr//TUMBEK_s2.molden\n",
      "Moldenpath exists\n",
      "setting alpha HOMO to -0.3598\n",
      "setting alpha LUMO to -0.2345\n",
      "setting beta HOMO to -0.3559\n",
      "setting beta LUMO to -0.2111\n",
      "('geo_flag: ', 1, 'ss_flag: ', 1, 'metal_spin_flag: ', 1)\n",
      "('metal_spin_expected: ', 1, 'metal_spin_actual: ', 1.0333541)\n"
     ]
    },
    {
     "ename": "NameError",
     "evalue": "name 'sardines' is not defined",
     "output_type": "error",
     "traceback": [
      "\u001b[0;31m---------------------------------------------------------------------------\u001b[0m",
      "\u001b[0;31mNameError\u001b[0m                                 Traceback (most recent call last)",
      "\u001b[0;32m<ipython-input-3-cb77efd51709>\u001b[0m in \u001b[0;36m<module>\u001b[0;34m()\u001b[0m\n\u001b[1;32m     16\u001b[0m         \u001b[0;32melse\u001b[0m\u001b[0;34m:\u001b[0m\u001b[0;34m\u001b[0m\u001b[0m\n\u001b[1;32m     17\u001b[0m             \u001b[0mbad_runs\u001b[0m\u001b[0;34m.\u001b[0m\u001b[0mappend\u001b[0m\u001b[0;34m(\u001b[0m\u001b[0mjob\u001b[0m\u001b[0;34m)\u001b[0m\u001b[0;34m\u001b[0m\u001b[0m\n\u001b[0;32m---> 18\u001b[0;31m         \u001b[0msardines\u001b[0m\u001b[0;34m\u001b[0m\u001b[0m\n\u001b[0m\u001b[1;32m     19\u001b[0m     \u001b[0;32mprint\u001b[0m\u001b[0;34m(\u001b[0m\u001b[0;34m\"pushing %d runs for folder #%d\"\u001b[0m\u001b[0;34m%\u001b[0m\u001b[0;34m(\u001b[0m\u001b[0mlen\u001b[0m\u001b[0;34m(\u001b[0m\u001b[0mruns\u001b[0m\u001b[0;34m)\u001b[0m\u001b[0;34m,\u001b[0m \u001b[0mind\u001b[0m\u001b[0;34m)\u001b[0m\u001b[0;34m)\u001b[0m\u001b[0;34m\u001b[0m\u001b[0m\n\u001b[1;32m     20\u001b[0m \u001b[0;31m#     push2db(database='tmc',\u001b[0m\u001b[0;34m\u001b[0m\u001b[0;34m\u001b[0m\u001b[0m\n",
      "\u001b[0;31mNameError\u001b[0m: name 'sardines' is not defined"
     ]
    }
   ],
   "source": [
    "active_jobs = list_active_jobs()\n",
    "required_keys = ['solvent', 'functionalsSP', 'vertIP', 'vertEA']\n",
    "# required_keys = []\n",
    "update_fields = required_keys\n",
    "for ind in range(21, 21+1):\n",
    "    runs, bad_runs = dict(), list()\n",
    "    path = '/home2/threepio/CSD/active/%d_active/'%ind\n",
    "    basejobs = collect_base_jobs(path=path)\n",
    "    for ii, job in enumerate(basejobs):\n",
    "        print(ind, ii, job)\n",
    "        if \"u_n_d_e_f\" in job[0]:\n",
    "            continue\n",
    "        this_run = jobmanager2mAD(job, active_jobs)\n",
    "        if this_run and this_run.converged and all(x in this_run.__dict__ and bool(getattr(this_run, x)) for x in required_keys):\n",
    "            runs.update({'/'.join(job): this_run})\n",
    "        else:\n",
    "            bad_runs.append(job)\n",
    "        sardines\n",
    "    print(\"pushing %d runs for folder #%d\"%(len(runs), ind))\n",
    "#     push2db(database='tmc', \n",
    "#             collection='oct', \n",
    "#             tag='sp', \n",
    "#             subtag='sp',\n",
    "#             publication=False, \n",
    "#             user='crduan',\n",
    "#             pwd='duanchenru521', \n",
    "#             host='localhost',\n",
    "#             port=27017,\n",
    "#             auth=True,\n",
    "#             all_runs_pickle=False,\n",
    "#             update_fields=update_fields,\n",
    "#             all_runs_list=runs,\n",
    "#             outpath='/home/db_backup')\n",
    "        "
   ]
  },
  {
   "cell_type": "code",
   "execution_count": null,
   "metadata": {},
   "outputs": [],
   "source": [
    "# runs.keys()"
   ]
  },
  {
   "cell_type": "code",
   "execution_count": null,
   "metadata": {},
   "outputs": [],
   "source": [
    "for k, r in runs.items():\n",
    "    print(\"=====%s=====\"%k)\n",
    "    print(r.charge)\n",
    "    print(r.solvent)\n",
    "    print(r.functionalsSP)\n",
    "    print(r.vertEA)\n",
    "    print(r.vertIP)"
   ]
  },
  {
   "cell_type": "code",
   "execution_count": null,
   "metadata": {},
   "outputs": [],
   "source": [
    "this_tmc = tmcMongo(this_run=this_run, tag='s', subtag='s',\n",
    "                            publication='s', update_fields=[])\n",
    "this_tmc.functionalsSP"
   ]
  },
  {
   "cell_type": "code",
   "execution_count": null,
   "metadata": {},
   "outputs": [],
   "source": [
    "this_run.charge"
   ]
  },
  {
   "cell_type": "code",
   "execution_count": null,
   "metadata": {},
   "outputs": [],
   "source": [
    "db.oct.find_one({'ligstr': 'ammonia_ammonia_ammonia_ammonia_ammonia_uthiol',\n",
    "                'metal': 'cr', 'ox': 3, 'spin': 4, 'alpha': 20})['solvent']"
   ]
  },
  {
   "cell_type": "markdown",
   "metadata": {},
   "source": [
    "## Check whether the push succeeded"
   ]
  },
  {
   "cell_type": "code",
   "execution_count": null,
   "metadata": {},
   "outputs": [],
   "source": [
    "constraints = {\"alpha\": {\"$in\": [20.0]},\n",
    "               \"converged\": True, 'lig6': {\"$nin\": ['x']},\n",
    "               \"wavefunction\": {\"$exists\": True},\n",
    "               \"functionalsSP\": {\"$exists\": True},\n",
    "               \"solvent\": {\"$exists\": True},\n",
    "               \"iscsd\": {\"$nin\": [True]}}\n",
    "cursor = db.oct.find(constraints)\n",
    "print(count_find(cursor))"
   ]
  },
  {
   "cell_type": "code",
   "execution_count": null,
   "metadata": {},
   "outputs": [],
   "source": [
    "db.oct.find_one(constraints)[\"iscsd\"]"
   ]
  },
  {
   "cell_type": "code",
   "execution_count": null,
   "metadata": {},
   "outputs": [],
   "source": []
  }
 ],
 "metadata": {
  "kernelspec": {
   "display_name": "Python [conda env:.conda-mols_keras] *",
   "language": "python",
   "name": "conda-env-.conda-mols_keras-py"
  },
  "language_info": {
   "codemirror_mode": {
    "name": "ipython",
    "version": 2
   },
   "file_extension": ".py",
   "mimetype": "text/x-python",
   "name": "python",
   "nbconvert_exporter": "python",
   "pygments_lexer": "ipython2",
   "version": "2.7.15"
  },
  "toc": {
   "base_numbering": 1,
   "nav_menu": {},
   "number_sections": true,
   "sideBar": true,
   "skip_h1_title": false,
   "title_cell": "Table of Contents",
   "title_sidebar": "Contents",
   "toc_cell": false,
   "toc_position": {},
   "toc_section_display": true,
   "toc_window_display": false
  }
 },
 "nbformat": 4,
 "nbformat_minor": 2
}
