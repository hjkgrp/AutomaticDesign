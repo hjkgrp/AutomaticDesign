{
 "cells": [
  {
   "cell_type": "code",
   "execution_count": 2,
   "metadata": {},
   "outputs": [
    {
     "name": "stderr",
     "output_type": "stream",
     "text": [
      "Using TensorFlow backend.\n"
     ]
    }
   ],
   "source": [
    "import numpy as np\n",
    "from molSimplifyAD.utils.pymongo_tools import connect2db, count_find, convert2dataframe"
   ]
  },
  {
   "cell_type": "code",
   "execution_count": 3,
   "metadata": {
    "code_folding": []
   },
   "outputs": [],
   "source": [
    "from os.path import expanduser\n",
    "home = expanduser(\"~\")\n",
    "dbconfig = json.load(open(home + \"/.db_config\"))\n",
    "\n",
    "db = connect2db(user=dbconfig['user'], pwd=dbconfig['pwd'],\n",
    "                host=\"localhost\", port=27017,\n",
    "                database='tmc', auth=True)"
   ]
  },
  {
   "cell_type": "code",
   "execution_count": 4,
   "metadata": {},
   "outputs": [],
   "source": [
    "from molSimplifyAD.retrain.calculate_pairing_prop import *"
   ]
  },
  {
   "cell_type": "markdown",
   "metadata": {},
   "source": [
    "### Convert DB query results into a pandas dataframe"
   ]
  },
  {
   "cell_type": "code",
   "execution_count": 5,
   "metadata": {},
   "outputs": [
    {
     "name": "stderr",
     "output_type": "stream",
     "text": [
      "/home/crduan/Package/AutomaticDesign/molSimplifyAD/utils/pymongo_tools.py:152: FutureWarning: Sorting because non-concatenation axis is not aligned. A future version\n",
      "of pandas will change to not sort by default.\n",
      "\n",
      "To accept the future behavior, pass 'sort=False'.\n",
      "\n",
      "To retain the current behavior and silence the warning, pass 'sort=True'.\n",
      "\n",
      "  return pd.concat(frames)\n"
     ]
    }
   ],
   "source": [
    "constraints = {\"alpha\": 20.0,\n",
    "               \"lig6\": {\"$ne\": \"x\"},\n",
    "               'tag': \"spectro\"\n",
    "              }\n",
    "df = convert2dataframe(db, collection=\"oct\", constraints=constraints, normalized=True)"
   ]
  },
  {
   "cell_type": "markdown",
   "metadata": {},
   "source": [
    "### Call the pairing function"
   ]
  },
  {
   "cell_type": "code",
   "execution_count": 6,
   "metadata": {},
   "outputs": [
    {
     "name": "stdout",
     "output_type": "stream",
     "text": [
      "checking geometry and spin contamination before pairing.\n",
      "100 / 563...\n",
      "200 / 563...\n",
      "300 / 563...\n",
      "400 / 563...\n",
      "500 / 563...\n",
      "('success: ', 224, 'failed: ', 339, 'nopair: ', 0, 'total: ', 563)\n"
     ]
    }
   ],
   "source": [
    "# Here is an example for redox (adiabatic IP) pairing between oxstates (2,3).\n",
    "# The pairing keeps spin manifold and without any solvent corrections.\n",
    "# The geo/spin contanmination will be check first before pairing.\n",
    "dfall2, missingall2 = pairing(df, case='redox', ox1=2, ox2=3, use_gs=False, \n",
    "                              water=False, solvent=False, check=True)"
   ]
  },
  {
   "cell_type": "code",
   "execution_count": 7,
   "metadata": {},
   "outputs": [],
   "source": [
    "# dfall3, missingall3 = pairing(df, case='redox', ox1=2, ox2=3, use_gs=True,\n",
    "#                               water=False, solvent=False, check=True)"
   ]
  },
  {
   "cell_type": "code",
   "execution_count": 8,
   "metadata": {},
   "outputs": [
    {
     "name": "stdout",
     "output_type": "stream",
     "text": [
      "No check is performed to filter out bad geometries and spins.\n",
      "100 / 1698...\n",
      "200 / 1698...\n",
      "300 / 1698...\n",
      "400 / 1698...\n",
      "500 / 1698...\n",
      "600 / 1698...\n",
      "700 / 1698...\n",
      "800 / 1698...\n",
      "900 / 1698...\n",
      "1000 / 1698...\n",
      "1100 / 1698...\n",
      "1200 / 1698...\n",
      "1300 / 1698...\n",
      "1400 / 1698...\n",
      "1500 / 1698...\n",
      "1600 / 1698...\n",
      "('success: ', 462, 'failed: ', 827, 'nopair: ', 409, 'total: ', 1698)\n"
     ]
    }
   ],
   "source": [
    "# Here is an example for spin splitting pairing for complexes with 4 electron difference.\n",
    "# The starting spin state is \"low spin\" (spin=1 or 2)\n",
    "# No geo/spin contanmination check is performed before pairing.\n",
    "dfall1, missingall1= pairing(df, case='split', num_electrons=4, start=\"L\", check=False)"
   ]
  },
  {
   "cell_type": "code",
   "execution_count": null,
   "metadata": {},
   "outputs": [],
   "source": []
  }
 ],
 "metadata": {
  "kernelspec": {
   "display_name": "Python [conda env:.conda-mols_keras] *",
   "language": "python",
   "name": "conda-env-.conda-mols_keras-py"
  },
  "language_info": {
   "codemirror_mode": {
    "name": "ipython",
    "version": 2
   },
   "file_extension": ".py",
   "mimetype": "text/x-python",
   "name": "python",
   "nbconvert_exporter": "python",
   "pygments_lexer": "ipython2",
   "version": "2.7.15"
  },
  "toc": {
   "base_numbering": 1,
   "nav_menu": {},
   "number_sections": true,
   "sideBar": true,
   "skip_h1_title": false,
   "title_cell": "Table of Contents",
   "title_sidebar": "Contents",
   "toc_cell": false,
   "toc_position": {},
   "toc_section_display": true,
   "toc_window_display": false
  }
 },
 "nbformat": 4,
 "nbformat_minor": 2
}
