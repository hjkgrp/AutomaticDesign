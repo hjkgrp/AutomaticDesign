{
 "cells": [
  {
   "cell_type": "code",
   "execution_count": 1,
   "metadata": {},
   "outputs": [
    {
     "name": "stderr",
     "output_type": "stream",
     "text": [
      "Using TensorFlow backend.\n"
     ]
    }
   ],
   "source": [
    "import argparse\n",
    "import copy\n",
    "import glob\n",
    "import json\n",
    "import numpy as np\n",
    "from molSimplifyAD.dbclass_mongo import tmcMongo\n",
    "from molSimplifyAD.utils.pymongo_tools import connect2db, insert, count_find, convert2dataframe\n",
    "from molSimplifyAD.ga_tools import get_mulliken"
   ]
  },
  {
   "cell_type": "markdown",
   "metadata": {},
   "source": [
    "## Connect to DB"
   ]
  },
  {
   "cell_type": "code",
   "execution_count": 3,
   "metadata": {},
   "outputs": [],
   "source": [
    "from os.path import expanduser\n",
    "home = expanduser(\"~\")\n",
    "dbconfig = json.load(open(home + \"/.db_config\"))\n",
    "\n",
    "db = connect2db(user=dbconfig['user'], pwd=dbconfig['pwd'],\n",
    "                host=\"localhost\", port=27017,\n",
    "                database='tmc', auth=True)"
   ]
  },
  {
   "cell_type": "code",
   "execution_count": 5,
   "metadata": {},
   "outputs": [
    {
     "name": "stderr",
     "output_type": "stream",
     "text": [
      "/home/crduan/.conda/envs/mols_keras/lib/python2.7/site-packages/ipykernel_launcher.py:1: DeprecationWarning: count is deprecated. Use estimated_document_count or count_documents instead. Please note that $where must be replaced by $expr, $near must be replaced by $geoWithin with $center, and $nearSphere must be replaced by $geoWithin with $centerSphere\n",
      "  \"\"\"Entry point for launching an IPython kernel.\n"
     ]
    },
    {
     "data": {
      "text/plain": [
       "163544"
      ]
     },
     "execution_count": 5,
     "metadata": {},
     "output_type": "execute_result"
    }
   ],
   "source": [
    "db.oct.count() # Test your connection"
   ]
  },
  {
   "cell_type": "markdown",
   "metadata": {},
   "source": [
    "## Query db for documents needed for update"
   ]
  },
  {
   "cell_type": "code",
   "execution_count": null,
   "metadata": {},
   "outputs": [],
   "source": [
    "### This is just an example. Change the constraints based on what you want.\n",
    "constraints = {\"alpha\": {\"$in\": [20.0]},\n",
    "               \"lig6\": {\"$ne\": \"x\"},\n",
    "               \"tag\": \"OxoHAT\",\n",
    "               \"converged\": True\n",
    "               }\n",
    "cursor = db.oct.find(constraints,\n",
    "                     no_cursor_timeout=True).batch_size(10)\n",
    "\n",
    "tot = count_find(cursor)\n",
    "print(tot)\n",
    "cursor = db.oct.find(constraints,\n",
    "                     no_cursor_timeout=True).batch_size(10)"
   ]
  },
  {
   "cell_type": "markdown",
   "metadata": {},
   "source": [
    "## Update document (This **ONLY** works for cases you do not need information from the DFTrun class object)"
   ]
  },
  {
   "cell_type": "code",
   "execution_count": null,
   "metadata": {},
   "outputs": [],
   "source": [
    "failed_list = []\n",
    "update_fields = [\"ss_flag\"] ## Only add keys you want to overwrite here.\n",
    "count = 0\n",
    "converted = 0\n",
    "for _tmcdoc in cursor: ## This _tmcdoc is a db document (dictionary)\n",
    "    tmcdoc_new = _tmcdoc.copy()\n",
    "    ###----Your code here----\n",
    "    ### Do whatever operation on the document tmcdoc_new\n",
    "    ### But please be CAREFUL about what you are doing.\n",
    "    ###----------------------\n",
    "    ## Sanity check for the modification.\n",
    "    for k in tmcdoc_new:\n",
    "        if k in _tmcdoc and not k in update_fields:\n",
    "            if not str(_tmcdoc[k]) == str(tmcdoc_new[k]):\n",
    "                raise ValueError(\"Error on %s. If you want to overwrite existing key-value pairs in the document, add it to the <update_fields>\"%k)\n",
    "    for k in _tmcdoc:\n",
    "        if not k in tmcdoc_new:\n",
    "            raise ValueError(\"Error on %s. You are removing an existing key-value pair in the document. Please think twice before you do this.\"%k)\n",
    "    print(\"replacing: \", _tmcdoc['_id'], _tmcdoc['unique_name'])\n",
    "    db.oct.find_one_and_replace({\"_id\": _tmcdoc['_id']}, tmcdoc_new)\n",
    "    count += 1\n",
    "    if count % 100 == 0:\n",
    "        print(\"processed %d, converted %d, total %d\" % (count, converted, tot))"
   ]
  }
 ],
 "metadata": {
  "kernelspec": {
   "display_name": "Python [conda env:.conda-mols_keras] *",
   "language": "python",
   "name": "conda-env-.conda-mols_keras-py"
  },
  "language_info": {
   "codemirror_mode": {
    "name": "ipython",
    "version": 2
   },
   "file_extension": ".py",
   "mimetype": "text/x-python",
   "name": "python",
   "nbconvert_exporter": "python",
   "pygments_lexer": "ipython2",
   "version": "2.7.15"
  },
  "toc": {
   "base_numbering": 1,
   "nav_menu": {},
   "number_sections": true,
   "sideBar": true,
   "skip_h1_title": false,
   "title_cell": "Table of Contents",
   "title_sidebar": "Contents",
   "toc_cell": false,
   "toc_position": {},
   "toc_section_display": true,
   "toc_window_display": false
  }
 },
 "nbformat": 4,
 "nbformat_minor": 2
}
