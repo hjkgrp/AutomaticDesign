{
 "cells": [
  {
   "cell_type": "code",
   "execution_count": 1,
   "metadata": {},
   "outputs": [
    {
     "name": "stderr",
     "output_type": "stream",
     "text": [
      "Using TensorFlow backend.\n"
     ]
    }
   ],
   "source": [
    "import argparse\n",
    "import copy\n",
    "import glob\n",
    "import numpy as np\n",
    "from molSimplifyAD.dbclass_mongo import tmcMongo\n",
    "from molSimplifyAD.utils.pymongo_tools import connect2db, insert, count_find, convert2dataframe\n",
    "from molSimplifyAD.ga_tools import get_mulliken"
   ]
  },
  {
   "cell_type": "markdown",
   "metadata": {},
   "source": [
    "## Connect to db"
   ]
  },
  {
   "cell_type": "code",
   "execution_count": 2,
   "metadata": {},
   "outputs": [],
   "source": [
    "from os.path import expanduser\n",
    "home = expanduser(\"~\")\n",
    "dbconfig = json.load(open(home + \"/.db_config\"))\n",
    "\n",
    "db = connect2db(user=dbconfig['user'], pwd=dbconfig['pwd'],\n",
    "                host=\"localhost\", port=27017,\n",
    "                database='tmc', auth=True)"
   ]
  },
  {
   "cell_type": "code",
   "execution_count": 3,
   "metadata": {},
   "outputs": [],
   "source": [
    "doc = db.oct.find_one({\"tag\": \"OxoHAT\"})"
   ]
  },
  {
   "cell_type": "code",
   "execution_count": 4,
   "metadata": {},
   "outputs": [
    {
     "data": {
      "text/plain": [
       "u'/home/nandy/cr_full_enumeration/geo_outfiles/gen_0/gen_0_slot_2_0_3_1_15_31_20_2.out'"
      ]
     },
     "execution_count": 4,
     "metadata": {},
     "output_type": "execute_result"
    }
   ],
   "source": [
    "doc['outpath']"
   ]
  },
  {
   "cell_type": "markdown",
   "metadata": {},
   "source": [
    "## Query db for documents needed for update"
   ]
  },
  {
   "cell_type": "code",
   "execution_count": null,
   "metadata": {},
   "outputs": [],
   "source": [
    "constraints = {\"alpha\": {\"$in\": [20.0]},\n",
    "#                \"lig6\": {\"$ne\": \"x\"},\n",
    "               \"tag\": \"OxoHAT\",\n",
    "               \"converged\": True\n",
    "               }\n",
    "cursor = db.oct.find(constraints,\n",
    "                     no_cursor_timeout=True).batch_size(10)\n",
    "\n",
    "tot = count_find(cursor)\n",
    "print(tot)\n",
    "cursor = db.oct.find(constraints,\n",
    "                     no_cursor_timeout=True).batch_size(10)"
   ]
  },
  {
   "cell_type": "code",
   "execution_count": null,
   "metadata": {},
   "outputs": [],
   "source": [
    "# df = convert2dataframe(db, collection='oct', constraints=constraints, normalized=True)\n",
    "# df.to_csv(\"test.csv\", index=False)"
   ]
  },
  {
   "cell_type": "markdown",
   "metadata": {},
   "source": [
    "## Update document (Here an example of recalculate ss_flag and update this value)"
   ]
  },
  {
   "cell_type": "code",
   "execution_count": null,
   "metadata": {},
   "outputs": [],
   "source": [
    "failed_list = []\n",
    "update_fields = ['ss_flag'] # fields for update need to be in this list\n",
    "count = 0\n",
    "converted = 0\n",
    "for _tmcdoc in cursor:\n",
    "    recovered = True\n",
    "    if (np.isnan(_tmcdoc['ss_flag']) or _tmcdoc['ss_flag']==-1) and  _tmcdoc['converged']:\n",
    "        try:\n",
    "            ## Convert a db document to tmcMongo class object with DFTrun.\n",
    "            _this_tmc = tmcMongo(document=_tmcdoc, tag=_tmcdoc[\"tag\"], subtag=_tmcdoc[\"subtag\"],\n",
    "                                 publication=_tmcdoc[\"publication\"], update_fields=update_fields)\n",
    "        except:\n",
    "            recovered = False\n",
    "        if recovered:\n",
    "            ###-----Here is your customized block of code-----\n",
    "            if _this_tmc.this_run.converged:\n",
    "                if _this_tmc.this_run.spin == 1:\n",
    "                    _this_tmc.document['ss_flag'] = 1\n",
    "                else:\n",
    "                    if abs(_this_tmc.this_run.ss_target -_this_tmc.this_run.ss_act) < 1:\n",
    "                         _this_tmc.document['ss_flag'] = 1\n",
    "                    else:\n",
    "                         _this_tmc.document['ss_flag'] = 0\n",
    "            ###-----Here is your customized block of code-----\n",
    "            __ = insert(db, \"oct\", _this_tmc, debug=False)\n",
    "            converted += 1\n",
    "        else:\n",
    "            print(\"Failed on recovering: \", _tmcdoc[\"tag\"], _tmcdoc[\"unique_name\"])\n",
    "            failed_list.append(_tmcdoc[\"unique_name\"])\n",
    "    count += 1\n",
    "    if count % 100 == 0:\n",
    "        print(\"processed %d, converted %d, total %d\" % (count, converted, tot))"
   ]
  },
  {
   "cell_type": "markdown",
   "metadata": {},
   "source": [
    "## Update JP's jpca-redox"
   ]
  },
  {
   "cell_type": "code",
   "execution_count": null,
   "metadata": {},
   "outputs": [],
   "source": [
    "from molSimplify.job_manager.tools import textfile\n",
    "from molSimplify.Classes.mol3D import mol3D"
   ]
  },
  {
   "cell_type": "code",
   "execution_count": null,
   "metadata": {},
   "outputs": [],
   "source": [
    "def geo_flag_from_doc(doc):\n",
    "    mol_init = mol3D()\n",
    "    mol_init.readfromtxt(doc['init_geo'].split('\\n'))\n",
    "    mol_opt = mol3D()\n",
    "    mol_opt.readfromtxt(doc['opt_geo'].split('\\n'))\n",
    "    flag_oct, flag_list, dict_oct_info = mol_opt.IsOct(debug=False)\n",
    "    return flag_oct"
   ]
  },
  {
   "cell_type": "code",
   "execution_count": null,
   "metadata": {},
   "outputs": [],
   "source": [
    "constraints = {\"alpha\": {\"$in\": [20.0]},\n",
    "               \"tag\": \"jpca-redox\",\n",
    "               \"converged\": True\n",
    "               }\n",
    "base_outpath = '/home/crduan/jpca-redox/'"
   ]
  },
  {
   "cell_type": "code",
   "execution_count": null,
   "metadata": {},
   "outputs": [],
   "source": [
    "failed_list = []\n",
    "update_fields = ['ss_flag', 'ss_act', 'ss_target', \"geo_flag\", 'ligstr']  # fields for update need to be in this list\n",
    "count = 0\n",
    "converted = 0\n",
    "for _tmcdoc in cursor:\n",
    "    recovered = True\n",
    "    if (np.isnan(_tmcdoc['ss_flag']) or _tmcdoc['ss_flag'] == -1) and _tmcdoc['converged']:\n",
    "        try:\n",
    "            # Convert a db document to tmcMongo class object with DFTrun.\n",
    "            _this_tmc = tmcMongo(document=_tmcdoc, tag=_tmcdoc[\"tag\"], subtag=_tmcdoc[\"subtag\"],\n",
    "                                 publication=_tmcdoc[\"publication\"], update_fields=update_fields)\n",
    "        except:\n",
    "            recovered = False\n",
    "        if recovered:\n",
    "            # -----Here is your customized block of code-----\n",
    "            if _this_tmc.this_run.converged:\n",
    "                base_outpath = '/home/crduan/jpca-redox/'\n",
    "                outfile = base_outpath + _tmcdoc['outpath'].split(\"/\")[-1]\n",
    "                output = textfile(outfile)\n",
    "                spin = int(output.wordgrab(['Spin multiplicity:'], -1)[0][0])\n",
    "                energy, ss_act, ss_target, tot_time, thermo_grad_error, solvent_cont, tot_step = output.wordgrab(\n",
    "                    ['FINAL', 'S-SQUARED:', 'S-SQUARED:', 'processing', 'Maximum component of gradient is too large',\n",
    "                     'C-PCM contribution to final energy:', 'Optimization Cycle'],\n",
    "                    [2, 2, 4, 3, 0, 4, 3], last_line=True)\n",
    "                if spin == 1:\n",
    "                    ss_target = 0\n",
    "                    ss_act = 0\n",
    "                    ss_flag = 1\n",
    "                else:\n",
    "                    try:\n",
    "                        ss_target = float(ss_target.strip(')'))\n",
    "                        ss_act = float(ss_act)\n",
    "                        ss_flag = 1 if abs(ss_target-ss_act) < 1 else 0\n",
    "                    except:\n",
    "                        ss_target = np.nan\n",
    "                        ss_act = np.nan\n",
    "                        ss_flag = np.nan\n",
    "                geo_flag = geo_flag_from_doc(_tmcdoc)\n",
    "                _this_tmc.document['ss_flag'] = ss_flag\n",
    "                _this_tmc.document['ss_act'] = ss_act\n",
    "                _this_tmc.document['ss_target'] = ss_target\n",
    "                _this_tmc.document['geo_flag'] = geo_flag\n",
    "                _this_tmc.document['ligstr'] = \"_\".join(_this_tmc.document['liglist'])\n",
    "                _this_tmc.document['unique_name'] = _tmcdoc['unique_name']\n",
    "                print(_this_tmc.document['unique_name'], geo_flag, ss_flag, ss_act, ss_target)\n",
    "            # -----Here is your customized block of code-----\n",
    "            __ = insert(db, \"oct\", _this_tmc, debug=False)\n",
    "            converted += 1\n",
    "        else:\n",
    "            print(\"Failed on recovering: \",\n",
    "                  _tmcdoc[\"tag\"], _tmcdoc[\"unique_name\"])\n",
    "            failed_list.append(_tmcdoc[\"unique_name\"])\n",
    "    count += 1\n",
    "    if count % 100 == 0:\n",
    "        print(\"processed %d, converted %d, total %d\" % (count, converted, tot))"
   ]
  }
 ],
 "metadata": {
  "kernelspec": {
   "display_name": "Python [conda env:.conda-mols_keras] *",
   "language": "python",
   "name": "conda-env-.conda-mols_keras-py"
  },
  "language_info": {
   "codemirror_mode": {
    "name": "ipython",
    "version": 2
   },
   "file_extension": ".py",
   "mimetype": "text/x-python",
   "name": "python",
   "nbconvert_exporter": "python",
   "pygments_lexer": "ipython2",
   "version": "2.7.15"
  },
  "toc": {
   "base_numbering": 1,
   "nav_menu": {},
   "number_sections": true,
   "sideBar": true,
   "skip_h1_title": false,
   "title_cell": "Table of Contents",
   "title_sidebar": "Contents",
   "toc_cell": false,
   "toc_position": {},
   "toc_section_display": true,
   "toc_window_display": false
  }
 },
 "nbformat": 4,
 "nbformat_minor": 2
}
