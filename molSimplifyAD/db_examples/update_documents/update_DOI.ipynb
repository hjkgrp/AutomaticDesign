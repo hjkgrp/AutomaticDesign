{
 "cells": [
  {
   "cell_type": "code",
   "execution_count": 1,
   "metadata": {},
   "outputs": [
    {
     "name": "stderr",
     "output_type": "stream",
     "text": [
      "Using TensorFlow backend.\n"
     ]
    }
   ],
   "source": [
    "import argparse\n",
    "import copy\n",
    "import glob\n",
    "import numpy as np\n",
    "from molSimplifyAD.dbclass_mongo import tmcMongo\n",
    "from molSimplifyAD.utils.pymongo_tools import connect2db, insert, count_find, convert2dataframe\n",
    "from molSimplifyAD.ga_tools import get_mulliken"
   ]
  },
  {
   "cell_type": "markdown",
   "metadata": {},
   "source": [
    "## Connect to DB"
   ]
  },
  {
   "cell_type": "code",
   "execution_count": 2,
   "metadata": {},
   "outputs": [],
   "source": [
    "from os.path import expanduser\n",
    "home = expanduser(\"~\")\n",
    "dbconfig = json.load(open(home + \"/.db_config\"))\n",
    "\n",
    "db = connect2db(user=dbconfig['user'], pwd=dbconfig['pwd'],\n",
    "                host=\"localhost\", port=27017,\n",
    "                database='tmc', auth=True)"
   ]
  },
  {
   "cell_type": "code",
   "execution_count": 3,
   "metadata": {},
   "outputs": [],
   "source": [
    "constraints = {\"alpha\": {\"$in\": [20.0]},\n",
    "               \"lig6\": {\"$ne\": \"x\"},\n",
    "              }\n",
    "cursor = db.oct.find(constraints,\n",
    "                     no_cursor_timeout=True).batch_size(10)"
   ]
  },
  {
   "cell_type": "code",
   "execution_count": 4,
   "metadata": {},
   "outputs": [
    {
     "name": "stderr",
     "output_type": "stream",
     "text": [
      "/home/crduan/Package/AutomaticDesign/molSimplifyAD/utils/pymongo_tools.py:163: FutureWarning: Sorting because non-concatenation axis is not aligned. A future version\n",
      "of pandas will change to not sort by default.\n",
      "\n",
      "To accept the future behavior, pass 'sort=False'.\n",
      "\n",
      "To retain the current behavior and silence the warning, pass 'sort=True'.\n",
      "\n",
      "  return pd.concat(frames)\n"
     ]
    },
    {
     "data": {
      "text/plain": [
       "43074"
      ]
     },
     "execution_count": 4,
     "metadata": {},
     "output_type": "execute_result"
    }
   ],
   "source": [
    "df = convert2dataframe(db, collection='oct', constraints=constraints, normalized=True)\n",
    "len(df)"
   ]
  },
  {
   "cell_type": "code",
   "execution_count": 5,
   "metadata": {},
   "outputs": [
    {
     "data": {
      "text/plain": [
       "[u'10.1021/acs.jctc.9b00057',\n",
       " u'10.1021/acs.jpca.7b08750',\n",
       " u'10.1021/acs.jpclett.8b00170',\n",
       " u'10.1039/C7SC01247K',\n",
       " u'10.1039/C9ME00069K',\n",
       " u'10.1039/C9SC02298H']"
      ]
     },
     "execution_count": 5,
     "metadata": {},
     "output_type": "execute_result"
    }
   ],
   "source": [
    "list(np.unique(df.dropna(subset=[\"doi\"])['doi'].values))"
   ]
  },
  {
   "cell_type": "markdown",
   "metadata": {},
   "source": [
    "## Update the DOI based on the existing \"publication\" column"
   ]
  },
  {
   "cell_type": "code",
   "execution_count": 6,
   "metadata": {
    "code_folding": []
   },
   "outputs": [],
   "source": [
    "pub_based_dict = {'ChemSci2019_JP': \"10.1039/C9SC02298H\",\n",
    "                  \"Duan_JCTC_2019\": '10.1021/acs.jctc.9b00057',\n",
    "                  \"JP_JPCA_2017\": \"10.1021/acs.jpca.7b08750\",\n",
    "                  'S Gugler, Mol. Syst. Des. Eng.': \"10.1039/C9ME00069K\"}"
   ]
  },
  {
   "cell_type": "code",
   "execution_count": 7,
   "metadata": {},
   "outputs": [
    {
     "name": "stdout",
     "output_type": "stream",
     "text": [
      "('JP_JPCA_2017', '10.1021/acs.jpca.7b08750')\n",
      "('updated:', 1169)\n",
      "('ChemSci2019_JP', '10.1039/C9SC02298H')\n",
      "('updated:', 4653)\n",
      "('Duan_JCTC_2019', '10.1021/acs.jctc.9b00057')\n",
      "('updated:', 3421)\n",
      "('S Gugler, Mol. Syst. Des. Eng.', '10.1039/C9ME00069K')\n",
      "('updated:', 2076)\n"
     ]
    }
   ],
   "source": [
    "for key in pub_based_dict:\n",
    "    print(key, pub_based_dict[key])\n",
    "    results = db.oct.update_many({\"publication\": key},\n",
    "                                 {\"$set\": {\"doi\": pub_based_dict[key]}})\n",
    "    print(\"updated:\", results.matched_count)"
   ]
  },
  {
   "cell_type": "markdown",
   "metadata": {},
   "source": [
    "## Update the DOI based on the existing \"tag\" column"
   ]
  },
  {
   "cell_type": "code",
   "execution_count": null,
   "metadata": {},
   "outputs": [],
   "source": [
    "tag_base_dict = {\"jpcl-related\": '10.1021/acs.jpclett.8b00170',\n",
    "                \"chem-sci-mad\": '10.1039/C7SC01247K',\n",
    "                'OHLDB': \"10.1039/C9ME00069K\"}"
   ]
  },
  {
   "cell_type": "code",
   "execution_count": null,
   "metadata": {},
   "outputs": [],
   "source": [
    "for key in tag_base_dict:\n",
    "    print(key, tag_base_dict[key])\n",
    "    results = db.oct.update_many({\"tag\": key},\n",
    "                                 {\"$set\": {\"doi\": tag_base_dict[key]}})\n",
    "    print(\"updated:\", results.matched_count)"
   ]
  },
  {
   "cell_type": "markdown",
   "metadata": {},
   "source": [
    "## Simple verification"
   ]
  },
  {
   "cell_type": "code",
   "execution_count": null,
   "metadata": {},
   "outputs": [],
   "source": [
    "db.oct.find_one({\"doi\": '10.1021/acs.jpca.7b08750'})['tag']"
   ]
  },
  {
   "cell_type": "code",
   "execution_count": null,
   "metadata": {},
   "outputs": [],
   "source": []
  }
 ],
 "metadata": {
  "kernelspec": {
   "display_name": "Python [conda env:.conda-mols_keras] *",
   "language": "python",
   "name": "conda-env-.conda-mols_keras-py"
  },
  "language_info": {
   "codemirror_mode": {
    "name": "ipython",
    "version": 2
   },
   "file_extension": ".py",
   "mimetype": "text/x-python",
   "name": "python",
   "nbconvert_exporter": "python",
   "pygments_lexer": "ipython2",
   "version": "2.7.15"
  },
  "toc": {
   "base_numbering": 1,
   "nav_menu": {},
   "number_sections": true,
   "sideBar": true,
   "skip_h1_title": false,
   "title_cell": "Table of Contents",
   "title_sidebar": "Contents",
   "toc_cell": false,
   "toc_position": {},
   "toc_section_display": true,
   "toc_window_display": false
  }
 },
 "nbformat": 4,
 "nbformat_minor": 2
}
